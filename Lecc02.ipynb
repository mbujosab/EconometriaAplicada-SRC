{
 "cells": [
  {
   "cell_type": "markdown",
   "id": "f26a89ea-bcd1-4f60-b510-5f81f881d859",
   "metadata": {},
   "source": [
    "Econometría Aplicada. Lección 2\n",
    "===============================\n",
    "\n",
    "**Author:** Marcos Bujosa\n",
    "\n"
   ]
  },
  {
   "cell_type": "markdown",
   "id": "5475547c-1c90-422c-9cc7-0e6db80b52f9",
   "metadata": {
    "slideshow": {
     "slide_type": "skip"
    }
   },
   "source": [
    "#### Carga de algunos módulos de python\n",
    "\n"
   ]
  },
  {
   "cell_type": "code",
   "execution_count": 1,
   "id": "21084f00-c6a9-4c31-bf1c-d76e2d2013a8",
   "metadata": {
    "slideshow": {
     "slide_type": "skip"
    }
   },
   "outputs": [],
   "source": [
    "# Importamos algunos módulos de python\n",
    "import numpy as np # linear algebra\n",
    "import pandas as pd # dataframe processing\n",
    "import statsmodels.api as sm  # modelos estadísticos\n",
    "import matplotlib as mpl\n",
    "import matplotlib.pyplot as plt # data visualization\n",
    "# definimos parámetros para mejorar los gráficos\n",
    "mpl.rc('text', usetex=True)\n",
    "mpl.rc('text.latex', preamble=r'\\usepackage{amsmath}')\n",
    "from matplotlib import rcParams\n",
    "rcParams['figure.figsize'] = 15,5"
   ]
  },
  {
   "cell_type": "code",
   "execution_count": 1,
   "id": "6ec35cf6-b49b-4240-a204-5c487e090be8",
   "metadata": {
    "slideshow": {
     "slide_type": "skip"
    }
   },
   "outputs": [],
   "source": [
    "# Usaré la siguiente función para transformar salidas en \\LaTeX{} de statsmodels a ficheros png (que usaré en las transparencias)\n",
    "from sympy.printing.preview import preview\n",
    "def repr_png(tex, ImgFile):\n",
    "    preamble = \"\\\\documentclass[10pt,preview]{standalone}\\n\" \\\n",
    "        \"\\\\usepackage{booktabs,amsmath,amsfonts}\\\\begin{document}\"    \n",
    "    preview(tex, filename=ImgFile, viewer='file', preamble=preamble, dvioptions=['-D','250'])"
   ]
  },
  {
   "cell_type": "markdown",
   "id": "7b01ecda-285d-4b08-812c-777654453456",
   "metadata": {
    "slideshow": {
     "slide_type": "skip"
    }
   },
   "source": [
    "##### Lectura datos: Internat. airline passengers. Monthly totals in thousands. Jan 49 – Dec 60\n",
    "\n"
   ]
  },
  {
   "cell_type": "code",
   "execution_count": 1,
   "id": "b2192221-0872-4307-8631-ed286010a3c9",
   "metadata": {
    "slideshow": {
     "slide_type": "skip"
    }
   },
   "outputs": [],
   "source": [
    "# Leemos los datos de un fichero csv y generamos un dataframe de pandas cuyo índice es el tiempo\n",
    "OrigData = pd.read_csv('./database/Datasets-master/airline-passengers.csv')\n",
    "OrigData['Month'] = pd.to_datetime(OrigData['Month'])\n",
    "OrigData = OrigData.set_index(['Month'])\n",
    "print(OrigData.head())"
   ]
  },
  {
   "cell_type": "code",
   "execution_count": 1,
   "id": "0b501aff-a764-4757-a25b-55be3c306cab",
   "metadata": {
    "slideshow": {
     "slide_type": "skip"
    }
   },
   "outputs": [],
   "source": [
    "# Creamos un dataframe con el mismo índice temporal de los datos originales pero con los datos en logaritmos\n",
    "TransformedData = pd.DataFrame(index=OrigData.index)\n",
    "TransformedData['dataLog'] = np.log(OrigData['Passengers'])\n",
    "print(TransformedData.head())"
   ]
  },
  {
   "cell_type": "markdown",
   "id": "f2eccaf0-e8c2-44cd-a31d-b76c44139173",
   "metadata": {
    "slideshow": {
     "slide_type": "slide"
    }
   },
   "source": [
    "## Descomposición estructural de una serie temporal\n",
    "\n"
   ]
  },
  {
   "cell_type": "markdown",
   "id": "6d8e83e7-f7b0-4fce-927a-781cc4aa1710",
   "metadata": {},
   "source": [
    "En la lección anterior vimos que una estrategia para analizar series\n",
    "temporales es transformar los datos para\n",
    "\n",
    "1.  primero lograr que sean \"***estacionarios***\" y\n",
    "2.  después, mediante más transformaciones, lograr una secuencia de\n",
    "    \"**datos *i.i.d***\" (este segundo paso aún no lo hemos abordado)\n",
    "\n",
    "(*recuerde que las expresiones \"datos estacionarios\" o \"datos i.i.d.\" son un abuso del lenguaje*).\n",
    "\n"
   ]
  },
  {
   "cell_type": "markdown",
   "id": "1bac9f93-83f4-4d65-a6f7-f558b4062efc",
   "metadata": {
    "slideshow": {
     "slide_type": "subslide"
    }
   },
   "source": [
    "Pero existe otro enfoque que pretende descomponer la serie temporal en\n",
    "los siguientes componentes *\"no observables\"* (o en un subconjunto de\n",
    "ellos):\n",
    "\n",
    "$$\\boldsymbol{y} = \\boldsymbol{t} + \\boldsymbol{c} + \\boldsymbol{s} + \\boldsymbol{e}$$\n",
    "\n",
    "donde:\n",
    "\n",
    "-   **La tendencia \"$\\boldsymbol{t}$\":** recoge la lenta evolución de la\n",
    "    media a *largo plazo*.\n",
    "\n",
    "-   **El componente estacional \"$\\boldsymbol{s}$\":** recoge las\n",
    "    oscilaciones periódicas que se repiten regularmente en ciclos\n",
    "    estacionales (de año en año, o de semana en semana, etc.).\n",
    "\n",
    "-   **El componente cíclico \"$\\boldsymbol{c}$\":** Cuando aparece\n",
    "    explícitamente en el modelo, $\\boldsymbol{c}$ recoge las\n",
    "    oscilaciones a medio plazo. Es decir, aquellas de un plazo más largo\n",
    "    que las oscilaciones estacionales, pero más corto que la tendencia\n",
    "    de largo plazo. Si está ausente, dichas oscilaciones suelen aparecer\n",
    "    en el componente de la tendencia, que entonces también podemos\n",
    "    denominar *tendencia-ciclo*.\n",
    "\n",
    "-   **El componente irregular \"$\\boldsymbol{e}$\":** recoge las\n",
    "    oscilaciones no captadas por el resto de componentes, ya que debe\n",
    "    cumplir la siguiente identidad: $\\boldsymbol{e} = \\boldsymbol{y} -\n",
    "      \\boldsymbol{t} - \\boldsymbol{c} - \\boldsymbol{s}$.\n",
    "\n",
    "Ajuste aceptable si (como poco) el componente irregular\n",
    "$\\boldsymbol{e}$ parece \"*estacionario*\".\n",
    "\n"
   ]
  },
  {
   "cell_type": "markdown",
   "id": "099059d0-23b1-4237-853d-aeaecd5482ce",
   "metadata": {
    "slideshow": {
     "slide_type": "slide"
    }
   },
   "source": [
    "### Tendencia determinista *lineal*\n",
    "\n"
   ]
  },
  {
   "cell_type": "code",
   "execution_count": 1,
   "id": "2cb07476-1618-4528-bc23-895bdf0ed8a7",
   "metadata": {
    "slideshow": {
     "slide_type": "skip"
    }
   },
   "outputs": [],
   "source": [
    "# Ajustamos por MCO una tendencia linea. Para ello, primero creamos un DataFrame con el regresando y los regresores del modelo\n",
    "datosModelo1 = TransformedData[['dataLog']].copy()\n",
    "nsample = len(datosModelo1)\n",
    "datosModelo1['cte'] = [1]*nsample\n",
    "datosModelo1['time'] = np.linspace(1, nsample, nsample)\n",
    "model1 = sm.OLS(datosModelo1['dataLog'], datosModelo1[['cte', 'time']])\n",
    "results1 = model1.fit()"
   ]
  },
  {
   "cell_type": "code",
   "execution_count": 1,
   "id": "97e76d57-db25-428c-9f82-3d056e00c8e6",
   "metadata": {
    "slideshow": {
     "slide_type": "skip"
    }
   },
   "outputs": [],
   "source": [
    "#Añadimos al DataFrame =datosModelo1= la tendencia ajustada, los residuos y la diferencia estacional de los residuos.\n",
    "datosModelo1['yhat'] = datosModelo1['cte']*results1.params['cte']+datosModelo1['time']*results1.params['time']\n",
    "datosModelo1['ehat'] = results1.resid\n",
    "datosModelo1['ehatDiff12'] = datosModelo1['ehat'].diff(12)"
   ]
  },
  {
   "cell_type": "code",
   "execution_count": 1,
   "id": "f8ec1ec6-a280-4c04-ad38-b4e8682914aa",
   "metadata": {
    "slideshow": {
     "slide_type": "skip"
    }
   },
   "outputs": [],
   "source": [
    "# Dibujamos los datos junto a la tendencia estimada\n",
    "plt.plot(datosModelo1['dataLog'])\n",
    "plt.plot(results1.fittedvalues)\n",
    "plt.grid()  \n",
    "plt.ylabel(r\"Log-Passengers, ($\\ln\\boldsymbol{x}$) \")"
   ]
  },
  {
   "cell_type": "markdown",
   "id": "61daaff6-48f9-4afb-b905-bf366cba4ed3",
   "metadata": {},
   "source": [
    "El modelo de tendencia más simple es la recta de regresión donde el\n",
    "regresor no constante es el propio índice $t$ de cada dato:\n",
    "\n",
    "$$\\ln{y_t}=\\underbrace{\\beta_1+\\beta_2\\cdot t}_{\\text{tendencia}} + e_t; \\quad t=1:114$$\n",
    "\n"
   ]
  },
  {
   "cell_type": "markdown",
   "id": "ec207095-4733-480a-b651-cb3754c0acf7",
   "metadata": {
    "slideshow": {
     "slide_type": "fragment"
    }
   },
   "source": [
    "![img](./img/lecc02/airlinepass+linearTrend.png)\n",
    "\n",
    "$$\\widehat{\\ln{y_t}}=4.8137+0.01\\cdot\\big(t\\big), \\qquad t=1:114$$\n",
    "\n"
   ]
  },
  {
   "cell_type": "code",
   "execution_count": 1,
   "id": "249418e1-a3df-4efe-8afb-ddef7aaa41ca",
   "metadata": {
    "slideshow": {
     "slide_type": "skip"
    }
   },
   "outputs": [],
   "source": [
    "print(results1.summary())"
   ]
  },
  {
   "cell_type": "markdown",
   "id": "0a62c3f4-79fd-4881-b821-2942599bd3fb",
   "metadata": {
    "slideshow": {
     "slide_type": "subslide"
    }
   },
   "source": [
    "![img](./img/lecc02/resultsModel1.png)\n",
    "\n"
   ]
  },
  {
   "cell_type": "markdown",
   "id": "e198fbdb-4d3c-4096-b6ac-1cc32a5cf7bb",
   "metadata": {
    "slideshow": {
     "slide_type": "subslide"
    }
   },
   "source": [
    "**<u>Componente irregular</u>**\n",
    "\n"
   ]
  },
  {
   "cell_type": "code",
   "execution_count": 1,
   "id": "4808a4c5-aae6-4510-bd0a-dffd1728140a",
   "metadata": {
    "slideshow": {
     "slide_type": "skip"
    }
   },
   "outputs": [],
   "source": [
    "# Gráfico de los residuos del ajuste.\n",
    "plt.grid()  \n",
    "plt.plot(results1.resid)"
   ]
  },
  {
   "cell_type": "markdown",
   "id": "60d2b9a8-b602-4795-b96a-f28d51c002e0",
   "metadata": {},
   "source": [
    "![img](./img/lecc02/airlinepass+irreg.png)\n",
    "En este caso, el modelo \n",
    "\n",
    "$$\\boldsymbol{y} = \\boldsymbol{t} + \\boldsymbol{e}$$\n",
    "\n",
    "donde $\\boldsymbol{t}$ es una tendencia lineal no\n",
    "es un ajuste satisfactorio, pues el *componente irregular*\n",
    "$$\\boldsymbol{e}=\\boldsymbol{y}-\\boldsymbol{t}$$\n",
    "no tiene la apariencia de realización de un proceso estacionario.\n",
    "\n"
   ]
  },
  {
   "cell_type": "code",
   "execution_count": 1,
   "id": "8b1341ad-aa34-4359-b155-9c9ade81dd1c",
   "metadata": {
    "slideshow": {
     "slide_type": "skip"
    }
   },
   "outputs": [],
   "source": [
    "# Gráfico de la diferencia estacional de los residuos del ajuste.\n",
    "plt.grid()  \n",
    "plt.plot(datosModelo1['ehatDiff12'])"
   ]
  },
  {
   "cell_type": "markdown",
   "id": "530f0e1e-b07b-4297-85e1-641b8898f6cb",
   "metadata": {
    "slideshow": {
     "slide_type": "subslide"
    }
   },
   "source": [
    "Adicionalmente podemos ver que diferencia de orden 12 del componente\n",
    "irregular parece mostrar un componente cíclico con un periodo de unos\n",
    "4 años.\n",
    "\n",
    "![img](./img/lecc02/airlinepass+irregDiff12.png)\n",
    "\n",
    "En el siguiente ejercicio probaremos con una tendencia cuadrática&#x2026;\n",
    "\n"
   ]
  },
  {
   "cell_type": "markdown",
   "id": "be550db3-1378-41c9-a9f7-92c5e3db59b4",
   "metadata": {
    "slideshow": {
     "slide_type": "slide"
    }
   },
   "source": [
    "### Tendencia determinista *cuadrática*\n",
    "\n"
   ]
  },
  {
   "cell_type": "code",
   "execution_count": 1,
   "id": "f26f6181-630e-4c04-8837-938e19227412",
   "metadata": {
    "slideshow": {
     "slide_type": "skip"
    }
   },
   "outputs": [],
   "source": [
    "# creamos un DataFrame con el regresando y los regresores del modelo.\n",
    "datosModelo2 = TransformedData[['dataLog']].copy()\n",
    "nsample = len(datosModelo1)\n",
    "datosModelo2['cte'] = [1]*nsample\n",
    "datosModelo2['time'] = np.linspace(1, nsample, nsample)\n",
    "datosModelo2['sq_time'] = [t**2 for t in datosModelo2['time']]\n",
    "# Ajustamos por MCO una tendencia cuadrática a los datos.\n",
    "model2 = sm.OLS(datosModelo1['dataLog'], datosModelo2[['cte', 'time', 'sq_time']])\n",
    "results2 = model2.fit()"
   ]
  },
  {
   "cell_type": "code",
   "execution_count": 1,
   "id": "c9bbee1f-6646-4215-8c26-10b348924000",
   "metadata": {
    "slideshow": {
     "slide_type": "skip"
    }
   },
   "outputs": [],
   "source": [
    "# Añadimos al DataFrame 'datosModelo2' la tendencia ajustada, los residuos y la diferencia estacional de los residuos.\n",
    "datosModelo2['yhat'] = results2.fittedvalues\n",
    "datosModelo2['ehat'] = results2.resid\n",
    "datosModelo2['ehatDiff12'] = datosModelo2['ehat'].diff(12)"
   ]
  },
  {
   "cell_type": "code",
   "execution_count": 1,
   "id": "806212a7-28bf-4816-bc88-d735933901c0",
   "metadata": {
    "slideshow": {
     "slide_type": "skip"
    }
   },
   "outputs": [],
   "source": [
    "# Dibujamos los datos junto a la tendencia estimada.\n",
    "plt.plot(datosModelo1['dataLog'])\n",
    "plt.plot(results2.fittedvalues)\n",
    "plt.grid()  \n",
    "plt.ylabel(r\"Log-Passengers, ($\\ln\\boldsymbol{x}$) \")"
   ]
  },
  {
   "cell_type": "markdown",
   "id": "4539b780-16b5-44d2-b41c-0b758806dc9a",
   "metadata": {},
   "source": [
    "$$\\ln{y_t}=\\underbrace{\\beta_1+\\beta_2\\cdot t + \\beta_3\\cdot t^2}_{\\text{tendencia}} + e_t; \\quad t=1:114$$\n",
    "\n"
   ]
  },
  {
   "cell_type": "markdown",
   "id": "dc19a87e-7d19-403a-b6f0-a092ae92d6fa",
   "metadata": {
    "slideshow": {
     "slide_type": "fragment"
    }
   },
   "source": [
    "![img](./img/lecc02/airlinepass+quadraticTrend.png)\n",
    "\n",
    "$$\\widehat{\\ln{y_t}}=4.7364+(0.0132)\\cdot t +(-2.191e-05)\\cdot t^2, \\qquad t=1:114$$\n",
    "\n"
   ]
  },
  {
   "cell_type": "code",
   "execution_count": 1,
   "id": "eb5ca6ce-7ad6-4ae2-bd2f-e9be6edd0012",
   "metadata": {
    "slideshow": {
     "slide_type": "skip"
    }
   },
   "outputs": [],
   "source": [
    "print(results2.summary())"
   ]
  },
  {
   "cell_type": "markdown",
   "id": "3129d234-6810-47b8-a594-dcb399bb8ebe",
   "metadata": {
    "slideshow": {
     "slide_type": "subslide"
    }
   },
   "source": [
    "![img](./img/lecc02/resultsModel2.png)\n",
    "\n"
   ]
  },
  {
   "cell_type": "markdown",
   "id": "456a815a-31a2-4c73-a26f-cd861f1b5896",
   "metadata": {
    "slideshow": {
     "slide_type": "subslide"
    }
   },
   "source": [
    "**<u>Componente irregular</u>**\n",
    "\n"
   ]
  },
  {
   "cell_type": "code",
   "execution_count": 1,
   "id": "3445cb52-07b8-4a8a-9d75-4e8b2b5ebe2b",
   "metadata": {
    "slideshow": {
     "slide_type": "skip"
    }
   },
   "outputs": [],
   "source": [
    "plt.grid()  \n",
    "plt.plot(results2.resid)"
   ]
  },
  {
   "cell_type": "markdown",
   "id": "5aaf1a6c-4497-4aa8-9230-c59210d8b127",
   "metadata": {},
   "source": [
    "![img](./img/lecc02/airlinepass+irreg2.png)\n",
    "\n",
    "De manera análoga al caso anterior, el modelo\n",
    "\n",
    "$$\\boldsymbol{y} = \\boldsymbol{t} + \\boldsymbol{e}$$\n",
    "\n",
    "donde $\\boldsymbol{t}$ ahora es una *tendencia\n",
    "cuadrática* tampoco es un ajuste satisfactorio, pues el componente\n",
    "irregular $\\boldsymbol{e}$ sigue sin parecerse a la realización de un\n",
    "proceso estacionario.\n",
    "\n"
   ]
  },
  {
   "cell_type": "code",
   "execution_count": 1,
   "id": "4a7a33ef-b595-46e9-8218-e1fa9b267998",
   "metadata": {
    "slideshow": {
     "slide_type": "skip"
    }
   },
   "outputs": [],
   "source": [
    "plt.grid()  \n",
    "plt.plot(datosModelo2['ehatDiff12'])"
   ]
  },
  {
   "cell_type": "markdown",
   "id": "674da5fe-2620-4e78-b86a-6df58ceb1184",
   "metadata": {
    "slideshow": {
     "slide_type": "subslide"
    }
   },
   "source": [
    "También en este modelo la diferencia de orden 12 del componente\n",
    "irregular muestra un componente cíclico con un periodo de unos 4 años.\n",
    "\n",
    "![img](./img/lecc02/airlinepass+irregDiff12.png)\n",
    "\n",
    "Para obtener una *tendencia-ciclo* que capte este ciclo, son\n",
    "necesarios procedimientos más sofisticados (por ejemplo TRAMO-SEATS, o\n",
    "X13-ARIMA, o STAMP, o LDHR, o E4, etc.) que estiman tendencias y\n",
    "componentes estacionales estocásticos.\n",
    "\n"
   ]
  },
  {
   "cell_type": "markdown",
   "id": "36400832-c004-47cd-878b-37c65317a022",
   "metadata": {
    "slideshow": {
     "slide_type": "fragment"
    }
   },
   "source": [
    "En el siguiente ejercicio estimaremos un **componente estacional\n",
    "determinista** (junto a una tendencia cuadrática determinista).\n",
    "\n"
   ]
  },
  {
   "cell_type": "markdown",
   "id": "fe563381-a2b8-4c07-ba4a-d75aa6ab9dff",
   "metadata": {
    "slideshow": {
     "slide_type": "slide"
    }
   },
   "source": [
    "### Tendencia cuadrática más estacionalidad determinista mediante *dummies*\n",
    "\n"
   ]
  },
  {
   "cell_type": "code",
   "execution_count": 1,
   "id": "265e0f3c-0412-4e3f-bbb3-97c3af08fb88",
   "metadata": {
    "slideshow": {
     "slide_type": "skip"
    }
   },
   "outputs": [],
   "source": [
    "# Creamos un dataframe con los datos y los regresores 'cte', 't' y 't^2'\n",
    "df = TransformedData[['dataLog']].copy()\n",
    "nsample = len(df)\n",
    "df['cte']     = [1]*nsample\n",
    "df['time']    = np.linspace(1, nsample, nsample)\n",
    "df['sq_time'] = [t**2 for t in df['time']]"
   ]
  },
  {
   "cell_type": "code",
   "execution_count": 1,
   "id": "e9796abb-67d3-4d52-bfbb-b6d7b815660a",
   "metadata": {
    "slideshow": {
     "slide_type": "skip"
    }
   },
   "outputs": [],
   "source": [
    "# Creamos las /dummies/ estacionales\n",
    "from statsmodels.tsa.deterministic import Seasonality\n",
    "seas_gen = Seasonality(12, initial_period=1)\n",
    "seasonalDummies = seas_gen.in_sample(df.index)"
   ]
  },
  {
   "cell_type": "code",
   "execution_count": 1,
   "id": "b54932d9-85a7-4dd5-94d7-8c00526f0ce4",
   "metadata": {
    "slideshow": {
     "slide_type": "skip"
    }
   },
   "outputs": [],
   "source": [
    "# Creamos un dataframe con el regresando y todos los regresores del modelo\n",
    "datosModelo3 = pd.concat([df, seasonalDummies],axis=1)\n",
    "# realizamos la regresión de la primera columna ('dataLog') sobre el resto de columnas del dataframe.\n",
    "model3 = sm.OLS(datosModelo3['dataLog'], datosModelo3.iloc[:,1:-1])\n",
    "results3 = model3.fit()"
   ]
  },
  {
   "cell_type": "code",
   "execution_count": 1,
   "id": "721d99de-0517-44a1-8df0-8fe3dbe3ed98",
   "metadata": {
    "slideshow": {
     "slide_type": "skip"
    }
   },
   "outputs": [],
   "source": [
    "# La combinación lineal de los regresores 'cte', 'time' y 'sq_time' usando los correspondientes\n",
    "# parámetros estimados nos da el componente de tendencia (determinista) estimado. \n",
    "TrendComp = datosModelo3[['cte','time','sq_time']].dot(results3.params[['cte','time','sq_time']])"
   ]
  },
  {
   "cell_type": "code",
   "execution_count": 1,
   "id": "a19e0f4e-8479-4a86-86ad-302a1f852ddd",
   "metadata": {
    "slideshow": {
     "slide_type": "skip"
    }
   },
   "outputs": [],
   "source": [
    "rcParams['figure.figsize'] = 15,4\n",
    "plt.plot(datosModelo1['dataLog'])\n",
    "plt.plot(TrendComp)\n",
    "plt.grid()  \n",
    "plt.ylabel(r\"Log-Passengers, ($\\ln\\boldsymbol{x}$) \")"
   ]
  },
  {
   "cell_type": "markdown",
   "id": "6fd533e0-ec21-46e9-b1b3-9ef11e51a1c6",
   "metadata": {},
   "source": [
    "![img](./img/lecc02/airlinepass+TrendC.png)\n",
    "\n"
   ]
  },
  {
   "cell_type": "code",
   "execution_count": 1,
   "id": "bb5e4ba7-eebe-4517-8e9d-a1ebd2c6edbd",
   "metadata": {
    "slideshow": {
     "slide_type": "skip"
    }
   },
   "outputs": [],
   "source": [
    "SeasonalComp = (seasonalDummies.iloc[:,:-1]).dot(results3.params[3:])\n",
    "plt.grid()  \n",
    "plt.plot(SeasonalComp)"
   ]
  },
  {
   "cell_type": "markdown",
   "id": "74334c87-551e-4bd8-8c23-5def16a270a2",
   "metadata": {},
   "source": [
    "![img](./img/lecc02/airlinepass+SeasonalC.png)\n",
    "\n"
   ]
  },
  {
   "cell_type": "markdown",
   "id": "3f51b6d7-ae18-4b66-8c59-51b00ca93175",
   "metadata": {
    "slideshow": {
     "slide_type": "subslide"
    }
   },
   "source": [
    "#### Ajuste y componente irregular $\\boldsymbol{e}=\\boldsymbol{y}-\\boldsymbol{t}-\\boldsymbol{s}$\n",
    "\n"
   ]
  },
  {
   "cell_type": "code",
   "execution_count": 1,
   "id": "5d4b45ad-1b2a-4e31-bb0c-d1a0b695f1d4",
   "metadata": {
    "slideshow": {
     "slide_type": "skip"
    }
   },
   "outputs": [],
   "source": [
    "plt.grid()  \n",
    "plt.plot(datosModelo3['dataLog'])\n",
    "plt.plot(TrendComp + SeasonalComp)"
   ]
  },
  {
   "cell_type": "markdown",
   "id": "818cb06d-d878-4a45-bd2b-6d00756bd5fe",
   "metadata": {},
   "source": [
    "![img](./img/lecc02/airlinepass+yhat.png)\n",
    "\n"
   ]
  },
  {
   "cell_type": "code",
   "execution_count": 1,
   "id": "793f9571-165f-4bb8-b3e7-48f262e693c8",
   "metadata": {
    "slideshow": {
     "slide_type": "skip"
    }
   },
   "outputs": [],
   "source": [
    "plt.grid()  \n",
    "plt.plot(results3.resid)"
   ]
  },
  {
   "cell_type": "markdown",
   "id": "fd7c3ac2-3e7d-4a0c-8ff2-5e9037a682e1",
   "metadata": {},
   "source": [
    "![img](./img/lecc02/airlinepass+IrregC.png)\n",
    "\n"
   ]
  },
  {
   "cell_type": "markdown",
   "id": "79b894a9-fe77-4ea7-9e60-dbebbf913403",
   "metadata": {
    "slideshow": {
     "slide_type": "subslide"
    }
   },
   "source": [
    "#### Valoración de modelos con componentes deterministas\n",
    "\n"
   ]
  },
  {
   "cell_type": "markdown",
   "id": "5b52a740-1eb0-4ad1-a172-b466ad941825",
   "metadata": {},
   "source": [
    "-   Estos modelos resultan útiles para realizar un análisis descriptivo.\n",
    "\n",
    "-   Pero suelen funcionar bastante mal como herramienta de predicción:\n",
    "    -   no tienen en cuenta la dependencia inter-temporal de los datos (se\n",
    "        han estimado mediante una regresión como si los datos hubieran\n",
    "        sido de sección cruzada)\n",
    "    \n",
    "    -   Por ejemplo, a la hora de prever el dato de enero de 1961, en este\n",
    "        modelo pesa tanto el dato de enero de 1949 como el dato de enero\n",
    "        de 1960.\n",
    "\n",
    "En general, para que los modelos funcionen bien en predicción deben\n",
    "*dar un mayor peso a los datos recientes* frente a los datos alejados\n",
    "en el tiempo.\n",
    "\n",
    "Pero sigamos explorando este modelo&#x2026;\n",
    "\n"
   ]
  },
  {
   "cell_type": "markdown",
   "id": "4a3f8adb-6817-44ec-bcdd-b6fef0b6dd08",
   "metadata": {
    "slideshow": {
     "slide_type": "subslide"
    }
   },
   "source": [
    "**Hay parámetros no significativos&#x2026;** (p-valores para dummies enero,\n",
    "febrero y octubre).\n",
    "\n"
   ]
  },
  {
   "cell_type": "code",
   "execution_count": 1,
   "id": "b184850e-4341-46fc-87bc-c05198e355c7",
   "metadata": {
    "slideshow": {
     "slide_type": "skip"
    }
   },
   "outputs": [],
   "source": [
    "repr_png(results3.summary().as_latex(), \"./img/lecc02/resultsModel3.png\")"
   ]
  },
  {
   "cell_type": "markdown",
   "id": "1d2da4bb-5e05-4a33-81d8-96603d90de75",
   "metadata": {
    "slideshow": {
     "slide_type": "fragment"
    }
   },
   "source": [
    "![img](./img/lecc02/resultsModel3.png)\n",
    "\n"
   ]
  },
  {
   "cell_type": "markdown",
   "id": "2e07a3b1-0004-41cd-92a6-e246eb458016",
   "metadata": {
    "slideshow": {
     "slide_type": "fragment"
    }
   },
   "source": [
    "<div>\n",
    "<img src=\"./img/lecc02/resultsModel3.png\" width=\"400\" class=\"center\"/>\n",
    "</div>\n",
    "\n"
   ]
  },
  {
   "cell_type": "markdown",
   "id": "7aeed876-8499-4a34-813e-288f7f1d239c",
   "metadata": {
    "slideshow": {
     "slide_type": "subslide"
    }
   },
   "source": [
    "**podemos eliminarlos secuencialmente** (quitando cada vez la variable de mayor p-valor)\n",
    "\n"
   ]
  },
  {
   "cell_type": "code",
   "execution_count": 1,
   "id": "0dfc019d-38b6-4d3f-890c-f8e3e5e1ccca",
   "metadata": {
    "slideshow": {
     "slide_type": "skip"
    }
   },
   "outputs": [],
   "source": [
    "import operator\n",
    "def remove_most_insignificant(df, results):\n",
    "    # use operator to find the key which belongs to the maximum value in the dictionary:\n",
    "    max_p_value = max(results.pvalues.iteritems(), key=operator.itemgetter(1))[0]\n",
    "    # this is the feature you want to drop:\n",
    "    df.drop(columns = max_p_value, inplace = True)\n",
    "    return df"
   ]
  },
  {
   "cell_type": "code",
   "execution_count": 1,
   "id": "23ecec46-7492-4773-bb2d-681f3a615213",
   "metadata": {
    "slideshow": {
     "slide_type": "skip"
    }
   },
   "outputs": [],
   "source": [
    "y = datosModelo3['dataLog']\n",
    "X = datosModelo3.iloc[:,1:-1]\n",
    "significacion = 0.05\n",
    "insignificant_feature = True\n",
    "while insignificant_feature:\n",
    "        model4 = sm.OLS(y, X)\n",
    "        results4 = model4.fit()\n",
    "        significant = [p_value < significacion for p_value in results4.pvalues]\n",
    "        if all(significant):\n",
    "            insignificant_feature = False\n",
    "        else:\n",
    "            if X.shape[1] == 1:  # if there's only one insignificant variable left\n",
    "                print('No significant features found')\n",
    "                results4 = None\n",
    "                insignificant_feature = False\n",
    "            else:            \n",
    "                X = remove_most_insignificant(X, results4)\n",
    "\n",
    "print(results4.summary())"
   ]
  },
  {
   "cell_type": "markdown",
   "id": "acac6dfa-a845-4da0-84f8-8660177d7557",
   "metadata": {
    "slideshow": {
     "slide_type": "skip"
    }
   },
   "source": [
    "![img](./img/lecc02/resultsModel4.png)\n",
    "\n"
   ]
  },
  {
   "cell_type": "markdown",
   "id": "8d036505-6e1e-4672-8de9-d0021d989c0e",
   "metadata": {
    "slideshow": {
     "slide_type": "fragment"
    }
   },
   "source": [
    "<div>\n",
    "<img src=\"./img/lecc02/resultsModel4.png\" width=\"400\" class=\"center\"/>\n",
    "</div>\n",
    "\n",
    "\n",
    "\n",
    "Pero esta inferencia es incorrecta. Con auto-correlación la varianza\n",
    "del estimador MCO es diferente (**la estimación por defecto de las\n",
    "desviaciones típicas es incorrecta**)\n",
    "\n"
   ]
  },
  {
   "cell_type": "markdown",
   "id": "59995ffc-feca-4a3b-b548-a09b0f0c5ad4",
   "metadata": {
    "slideshow": {
     "slide_type": "slide"
    }
   },
   "source": [
    "## Autocorrelación\n",
    "\n"
   ]
  },
  {
   "cell_type": "markdown",
   "id": "cdf001a1-0d53-4b81-b041-3d3ae9ddc2fe",
   "metadata": {},
   "source": [
    "Considere el modelo\n",
    "$\\boldsymbol{Y}=\\boldsymbol{\\mathsf{X}\\beta}+\\boldsymbol{U}.\\;$ Bajo\n",
    "los supuestos habituales\n",
    "\n",
    "$$E(\\boldsymbol{U}\\mid\\boldsymbol{\\mathsf{X}})=\\boldsymbol{0},\\quad\n",
    "Var(\\boldsymbol{U}\\mid\\boldsymbol{\\mathsf{X}})=\\sigma^2\\boldsymbol{\\mathsf{I}}\\quad\n",
    "\\text{y} \\quad E(\\boldsymbol{\\mathsf{X'X}}) \\text{ es invertible}$$\n",
    "\n",
    "el estimador\n",
    "$\\;\\widehat{\\boldsymbol{\\beta}}=(\\boldsymbol{\\mathsf{X'X}})^{-1}\\boldsymbol{\\mathsf{X'}Y}\\;$\n",
    "es insesgado y eficiente, con varianza\n",
    "\n",
    "$$\\;Var(\\widehat{\\boldsymbol{\\beta}}\\mid\\boldsymbol{\\mathsf{X}})=\\sigma^2(\\boldsymbol{\\mathsf{X'X}})^{-1}$$\n",
    "\n"
   ]
  },
  {
   "cell_type": "markdown",
   "id": "680ab38e-6ffe-41bc-8bd6-3eda2600ba0c",
   "metadata": {
    "slideshow": {
     "slide_type": "fragment"
    }
   },
   "source": [
    "Pero si las perturbaciones $\\boldsymbol{U}$ del modelo son\n",
    "heterocedásticas y/o autocorreladas\n",
    "$$Var(\\boldsymbol{U}\\mid\\boldsymbol{\\mathsf{X}})=\\boldsymbol{\\Sigma}\\ne\\sigma^2\\boldsymbol{\\mathsf{I}}$$\n",
    "entonces el estimador $\\widehat{\\boldsymbol{\\beta}}$, aunque\n",
    "insesgado, ya no es eficiente; y su varianza es\n",
    "\n",
    "$$Var(\\widehat{\\boldsymbol{\\beta}}\\mid\\boldsymbol{\\mathsf{X}})=Var(\\widehat{\\boldsymbol{\\beta}}-\\boldsymbol{\\mathsf{I}}\\boldsymbol{\\beta}\\mid\\boldsymbol{\\mathsf{X}})=\n",
    "(\\boldsymbol{\\mathsf{X'X}})^{-1}\\boldsymbol{\\mathsf{X'}}\n",
    "\\boldsymbol{\\Sigma}\n",
    "\\boldsymbol{\\mathsf{X}}(\\boldsymbol{\\mathsf{X'X}})^{-1}.$$\n",
    "\n"
   ]
  },
  {
   "cell_type": "markdown",
   "id": "059c4eb5-9d03-4fe1-80f9-8c2059c54a3c",
   "metadata": {
    "slideshow": {
     "slide_type": "fragment"
    }
   },
   "source": [
    "El test de Durbin-Watson o el test de Breusch y Godfrey sirven para\n",
    "contrastar la $H_0$ de *no autocorrelación*&#x2026;.\n",
    "\n"
   ]
  },
  {
   "cell_type": "markdown",
   "id": "a89a2fd3-3e6a-421a-b45a-dbc392e27db4",
   "metadata": {
    "slideshow": {
     "slide_type": "notes"
    }
   },
   "source": [
    "**El test de Durbin-Watson** contrasta la autocorrelación de orden\n",
    "uno. Para muestras grandes, el test es aproximadamente igual a\n",
    "$2(1-{\\hat {\\rho }})$, donde ${\\hat{\\rho}}$ es la autocorrelación de\n",
    "orden uno de los residuos. Por tanto, valores del test próximos a 2\n",
    "indican no autocorrelación, valores próximos a 0 indican fuerte\n",
    "autocorrelación positiva y valores próximos a 4 indican fuerte\n",
    "autocorrelación negativa.\n",
    "\n"
   ]
  },
  {
   "cell_type": "markdown",
   "id": "ac8aaf52-1d61-42b7-ad0a-47aa78b3ce9d",
   "metadata": {
    "slideshow": {
     "slide_type": "subslide"
    }
   },
   "source": [
    "### Test de Breusch y Godfrey\n",
    "\n"
   ]
  },
  {
   "cell_type": "markdown",
   "id": "54d8243c-b17b-4ab2-81d6-1a956bb167af",
   "metadata": {},
   "source": [
    "Considere el *modelo de regresión lineal* \n",
    "\n",
    "$$Y_t = \\beta_1+ \\beta_2 X_{t,1} + \\cdots +  \\beta_k X_{t,k+1} + U_t$$\n",
    "\n",
    "\n",
    "donde las perturbaciones $\\boldsymbol{U}$ quizá siguen un esquema\n",
    "auto-regresivo $AR(p)$:\n",
    "\n",
    "$$U_t = \\rho_1 U_{t-1} + \\rho_2 U_{t-2}  + \\cdots + \\rho_p U_{t-p} + \\varepsilon_t$$\n",
    "\n",
    "-   **Paso 1**. Se obtienen los residuos del ajuste por MCO con una\n",
    "    muestra de tamaño $T$ del *modelo de regresión lineal*.\n",
    "-   **Paso 2**. Se realiza un ajuste MCO de los residuos sobre los\n",
    "    regresores del modelo original y sobre los $p$ primeros retardos de\n",
    "    los residuos.\n",
    "    $$\\hat{E}_t = \\alpha_0 + \\alpha_1 X_{t,1} + \\cdots \\alpha_k\n",
    "      X_{t,k} + \\rho_1 \\hat{E}_{t-1} + \\rho_2 \\hat{E}_{t-2} + \\cdots +\n",
    "      \\rho_p \\hat{E}_{t-p} + \\varepsilon_t$$\n",
    "\n",
    "asintóticamente y bajo la $H_0$ de *no autocorrelación*: ${\\lbrace\n",
    "\\rho_i = 0\\text{ para todo }i\\rbrace}$\n",
    "\n",
    "$$n R^2\\,\\sim\\,\\chi^2_p,$$\n",
    "\n",
    "donde $R^2$ es el coeficiente de determinación de la regresión\n",
    "auxiliar y $n=T-p$.\n",
    "\n"
   ]
  },
  {
   "cell_type": "code",
   "execution_count": 1,
   "id": "92364b81-175c-479b-9b3d-d6ea19bb610f",
   "metadata": {
    "slideshow": {
     "slide_type": "skip"
    }
   },
   "outputs": [],
   "source": [
    "import statsmodels.stats.diagnostic as dg\n",
    "#perform Breusch-Godfrey test of order p = 3\n",
    "arbg = dg.acorr_breusch_godfrey(results4, nlags=3, store=True)\n",
    "arbg[:1]\n",
    "repr_png(arbg[-1].resols.summary().as_latex(), \"./img/lecc02/resultsBreusch-Godfrey.png\")"
   ]
  },
  {
   "cell_type": "markdown",
   "id": "5f9d3ec8-1ffc-4b21-84f3-beacb28b103f",
   "metadata": {
    "slideshow": {
     "slide_type": "skip"
    }
   },
   "source": [
    "![img](./img/lecc02/resultsBreusch-Godfrey.png)\n",
    "\n"
   ]
  },
  {
   "cell_type": "markdown",
   "id": "8ff500f6-87a6-4fa5-bde9-93d00991da35",
   "metadata": {
    "slideshow": {
     "slide_type": "subslide"
    }
   },
   "source": [
    "-   Valor del estadístico: $\\quad 62.7119\\qquad$ (p-valor: $\\; 1.55e-13$)\n",
    "-   $x_{12}$ corresponde al primer retardo en la regresión auxiliar y es muy significativo\n",
    "\n",
    "<div>\n",
    "<img src=\"./img/lecc02/resultsBreusch-Godfrey.png\" width=\"450\" class=\"center\"/>\n",
    "</div>\n",
    "\n"
   ]
  },
  {
   "cell_type": "markdown",
   "id": "e978c70b-4ba0-4c80-861c-b9a02392424c",
   "metadata": {
    "slideshow": {
     "slide_type": "slide"
    }
   },
   "source": [
    "### Errores estándar robustos\n",
    "\n"
   ]
  },
  {
   "cell_type": "markdown",
   "id": "5bcbb010-0c96-4d25-8261-ccf0ddb7859d",
   "metadata": {},
   "source": [
    "Un procedimiento adecuado en presencia de autocorrelación y muestras\n",
    "grandes consiste en usar errores estándar \"*robustos*\" al realizar\n",
    "inferencia con la estimación de los parámetros.\n",
    "\n",
    "1.  las estimaciones serán insesgadas, consistentes pero ineficientes,\n",
    "\n",
    "2.  los residuos son los mismos y, por tanto, estarán autocorrelados, aunque\n",
    "\n",
    "3.  la inferencia a partir de errores estándar robustos será válida\n",
    "\n"
   ]
  },
  {
   "cell_type": "code",
   "execution_count": 1,
   "id": "89519121-fc70-49a8-83af-2062624383dd",
   "metadata": {
    "slideshow": {
     "slide_type": "skip"
    }
   },
   "outputs": [],
   "source": [
    "y = datosModelo3['dataLog']\n",
    "X = datosModelo3.iloc[:,1:-1]\n",
    "model5 = sm.OLS(y, X)\n",
    "results5 = model5.fit()\n",
    "print(results5.get_robustcov_results(cov_type='HAC', maxlags=3, use_correction=True).summary())"
   ]
  },
  {
   "cell_type": "code",
   "execution_count": 1,
   "id": "bacb3829-1b73-42b1-97f3-513896925f9c",
   "metadata": {
    "slideshow": {
     "slide_type": "skip"
    }
   },
   "outputs": [],
   "source": [
    "repr_png(results5.get_robustcov_results(cov_type='HAC', maxlags=3, use_correction=True).summary().as_latex(), \"./img/lecc02/resultsModel5.png\")"
   ]
  },
  {
   "cell_type": "markdown",
   "id": "55bb61c6-3e6c-40c9-9635-dc8a5a80b2c4",
   "metadata": {
    "slideshow": {
     "slide_type": "skip"
    }
   },
   "source": [
    "![img](./img/lecc02/resultsModel5.png)\n",
    "\n"
   ]
  },
  {
   "cell_type": "markdown",
   "id": "3aee816f-3b6d-4754-985d-f55cf1aea083",
   "metadata": {
    "slideshow": {
     "slide_type": "subslide"
    }
   },
   "source": [
    "<div>\n",
    "<img src=\"./img/lecc02/resultsModel5.png\" width=\"400\" class=\"center\"/>\n",
    "</div>\n",
    "\n",
    "Ahora, y empleando errores estándar robustos, podemos reducir el\n",
    "modelo de manera más cuidadosa usando desviaciones típicas robustas. El modelo reducido es&#x2026;\n",
    "\n"
   ]
  },
  {
   "cell_type": "code",
   "execution_count": 1,
   "id": "aca5458d-ff4a-4166-8b9f-f9549880d273",
   "metadata": {
    "slideshow": {
     "slide_type": "skip"
    }
   },
   "outputs": [],
   "source": [
    "y = datosModelo3['dataLog']\n",
    "X = datosModelo3.iloc[:,1:-1]\n",
    "\n",
    "significacion = 0.05\n",
    "\n",
    "insignificant_feature = True\n",
    "while insignificant_feature:\n",
    "        results6      = sm.OLS(y, X).fit()\n",
    "        robustResults = results6.get_robustcov_results(cov_type='HAC', maxlags=3, use_correction=True)\n",
    "        robustPvalues = pd.Series(index=results6.pvalues.index, data=robustResults.pvalues)\n",
    "\n",
    "        significant = [p_value < significacion for p_value in robustPvalues]\n",
    "\n",
    "        \n",
    "        if all(significant):\n",
    "            insignificant_feature = False\n",
    "        else:\n",
    "            if X.shape[1] == 1:  # if there's only one insignificant variable left\n",
    "                print('No significant features found')\n",
    "                results6 = None\n",
    "                insignificant_feature = False\n",
    "            else:            \n",
    "                X = remove_most_insignificant(X, results6)\n",
    "print(robustResults.summary())\n",
    "repr_png(robustResults.summary().as_latex(), \"./img/lecc02/resultsModel6.png\")"
   ]
  },
  {
   "cell_type": "markdown",
   "id": "9a5869e6-7a58-45bf-8996-eb2b12cc9d74",
   "metadata": {
    "slideshow": {
     "slide_type": "skip"
    }
   },
   "source": [
    "![img](./img/lecc02/resultsModel6.png)\n",
    "\n"
   ]
  },
  {
   "cell_type": "markdown",
   "id": "106558fb-d4be-4896-b208-d4ca0a110099",
   "metadata": {
    "slideshow": {
     "slide_type": "subslide"
    }
   },
   "source": [
    "<div>\n",
    "<img src=\"./img/lecc02/resultsModel6.png\" width=\"400\" class=\"center\"/>\n",
    "</div>\n",
    "\n",
    "-   Nótese que ahora se aprecia que enero y octubre son significativos al 5%\n",
    "-   Pero la estimación MCO no es eficiente en presencia de\n",
    "    heterocedasticidad y/o auto-correlación\n",
    "\n"
   ]
  },
  {
   "cell_type": "markdown",
   "id": "e561721c-b3cd-4e4b-adcc-a6b1e141ef83",
   "metadata": {
    "slideshow": {
     "slide_type": "slide"
    }
   },
   "source": [
    "### Modelo del error\n",
    "\n"
   ]
  },
  {
   "cell_type": "markdown",
   "id": "24dcdb19-43b6-4ce7-b731-06988cff249c",
   "metadata": {},
   "source": [
    "En el modelo\n",
    "$\\boldsymbol{Y}=\\boldsymbol{\\mathsf{X}\\beta}+\\boldsymbol{U},\\;$ si las\n",
    "perturbaciones presentan heterocedasticidad y/o auto-correlación, y\n",
    "por tanto\n",
    "$$Var(\\boldsymbol{U}\\mid\\boldsymbol{\\mathsf{X}})=\\boldsymbol{\\Sigma}\\ne\\sigma^2\\boldsymbol{\\mathsf{I}},$$\n",
    "el Teorema de Gauss-Markov ya no es válido, ya que es posible explotar\n",
    "la estructura de la matriz $\\boldsymbol{\\Sigma}$ para minimizar la\n",
    "varianza del estimador.\n",
    "\n",
    "En particular, el estimador lineal de mínima varianza es el estimador\n",
    "MCG (mínimos cuadrados generalizados)\n",
    "\n",
    "$$\\;\\widehat{\\boldsymbol{\\beta}}=(\\boldsymbol{\\mathsf{X'}}\\boldsymbol{\\mathsf{\\Sigma}}^{-1}\\boldsymbol{\\mathsf{X}})^{-1}\\boldsymbol{\\mathsf{X'}}\\boldsymbol{\\mathsf{\\Sigma}}^{-1}\\boldsymbol{Y}\\;$$\n",
    "\n",
    "El problema es que, en general, la matriz $\\boldsymbol{\\Sigma}$ es\n",
    "desconocida.\n",
    "\n",
    "Una solución es aplicar un procedimiento iterativo en el que se estima\n",
    "la matriz $\\boldsymbol{\\Sigma}$ empleando los errores del ajuste de\n",
    "una primera regresión. Con dicha matriz\n",
    "$\\widehat{\\boldsymbol{\\Sigma}}$ se re-estima el modelo por MCG&#x2026; con\n",
    "los nuevos errores se re-estima $\\boldsymbol{\\Sigma}$&#x2026; y vuelta a\n",
    "empezar&#x2026;\n",
    "\n",
    "El algoritmo se detiene cuando las estimaciones convergen a valores\n",
    "estables.\n",
    "\n"
   ]
  },
  {
   "cell_type": "markdown",
   "id": "12b5fe78-4682-4991-adec-36ed01cc1546",
   "metadata": {
    "slideshow": {
     "slide_type": "subslide"
    }
   },
   "source": [
    "Cuando realizamos el Test de Breusch-Godfrey vimos que en la regresión\n",
    "auxiliar el primer retardo de los errores era significativo. Por\n",
    "tanto, vamos a indicar que las perturbaciones siguen un proceso AR(1).\n",
    "El decir, vamos a estimar el modelo\n",
    "\n",
    "$$\\ln{y_t}=\\underbrace{\\beta_1+\\beta_2\\cdot t+\\beta_3\\cdot t^2}_{\\text{tendencia}} + \\underbrace{\\alpha_1 S_{t1} + \\alpha_3 S_{t3} + \\cdots + \\alpha_11 S_{t11}}_{\\text{comp. estacional}} + \\epsilon_t$$\n",
    "\n",
    "donde las perturbaciones $\\boldsymbol{\\epsilon}=\\{\\epsilon_t\\}$ siguen\n",
    "el modelo\n",
    "\n",
    "$$\\epsilon_t = \\rho_1 \\epsilon_{t-1} + e_t$$\n",
    "\n",
    "(*en este caso la estimación converge en 7 iteraciones*)\n",
    "\n"
   ]
  },
  {
   "cell_type": "code",
   "execution_count": 1,
   "id": "cb54d714-022a-45c2-97f8-2e2de684d3cd",
   "metadata": {
    "slideshow": {
     "slide_type": "skip"
    }
   },
   "outputs": [],
   "source": [
    "model = sm.GLSAR(y, X, rho=1) # rho=1 indica autocorrelación de orden uno\n",
    "for i in range(7):\n",
    "    results = model.fit()\n",
    "    print(\"AR coefficients: {0}\".format(model.rho))\n",
    "    rho, sigma = sm.regression.yule_walker(results.resid,\n",
    "                                           order=model.order)\n",
    "    model = sm.GLSAR(y, X, rho)"
   ]
  },
  {
   "cell_type": "code",
   "execution_count": 1,
   "id": "0b199583-d215-4a16-8b6c-52024cd994ed",
   "metadata": {
    "slideshow": {
     "slide_type": "skip"
    }
   },
   "outputs": [],
   "source": [
    "print(results.summary())"
   ]
  },
  {
   "cell_type": "markdown",
   "id": "a0be2d67-210e-4438-ab0c-e2ddd03c94f4",
   "metadata": {
    "slideshow": {
     "slide_type": "skip"
    }
   },
   "source": [
    "![img](./img/lecc02/resultsModel7.png)\n",
    "\n"
   ]
  },
  {
   "cell_type": "markdown",
   "id": "131969a4-fbff-4406-9e6f-73eea0052080",
   "metadata": {
    "slideshow": {
     "slide_type": "subslide"
    }
   },
   "source": [
    "<div>\n",
    "<img src=\"./img/lecc02/resultsModel7.png\" width=\"600\" class=\"center\"/>\n",
    "</div>\n",
    "\n"
   ]
  },
  {
   "cell_type": "code",
   "execution_count": 1,
   "id": "86b8584d-2a1e-4f69-9781-3a9cd24c8790",
   "metadata": {
    "slideshow": {
     "slide_type": "skip"
    }
   },
   "outputs": [],
   "source": [
    "# este código realiza las mismas iteraciones que bloque de código de más arriba\n",
    "model2 = sm.GLSAR(y, X, rho=1)\n",
    "res = model2.iterative_fit(maxiter=7)\n",
    "model2.rho\n",
    "print(model2.fit().summary())"
   ]
  }
 ],
 "metadata": {
  "kernelspec": {
   "display_name": "Python 3 (ipykernel)",
   "language": "python",
   "name": "python3"
  },
  "language_info": {
   "codemirror_mode": {
    "name": "ipython",
    "version": 3
   },
   "file_extension": ".py",
   "mimetype": "text/x-python",
   "name": "python",
   "nbconvert_exporter": "python",
   "pygments_lexer": "ipython3",
   "version": "3.11.2"
  },
  "org": null
 },
 "nbformat": 4,
 "nbformat_minor": 5
}
