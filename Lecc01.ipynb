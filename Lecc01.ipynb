{
 "cells": [
  {
   "cell_type": "markdown",
   "metadata": {},
   "source": [
    "Econometría Aplicada. Lección 1\n",
    "===============================\n",
    "\n",
    "**Author:** Marcos Bujosa\n",
    "\n"
   ]
  },
  {
   "cell_type": "markdown",
   "metadata": {
    "slideshow": {
     "slide_type": "notes"
    }
   },
   "source": [
    "#### Carga de algunos módulos de python\n",
    "\n"
   ]
  },
  {
   "cell_type": "code",
   "execution_count": 1,
   "metadata": {
    "slideshow": {
     "slide_type": "notes"
    }
   },
   "outputs": [],
   "source": [
    "# Para trabajar con los datos y dibujarlos necesitamos cargar algunos módulos de python\n",
    "import numpy as np # linear algebra\n",
    "import pandas as pd # data processing, CSV file I/O (e.g. pd.read_csv)\n",
    "import matplotlib as mpl\n",
    "import matplotlib.pyplot as plt   # data visualization\n",
    "mpl.rc('text', usetex=True)\n",
    "mpl.rc('text.latex', preamble=r'\\usepackage{amsmath}')"
   ]
  },
  {
   "cell_type": "markdown",
   "metadata": {
    "slideshow": {
     "slide_type": "slide"
    }
   },
   "source": [
    "## Procesos estocásticos y datos de series temporales\n",
    "\n"
   ]
  },
  {
   "cell_type": "markdown",
   "metadata": {},
   "source": [
    "-   **Proceso estocástico:** es una secuencia de variables aleatorias $X_t$\n",
    "    \n",
    "    $$\\boldsymbol{X}=\\{X_t \\mid t=0,\\pm1,\\pm2,\\ldots\\};$$\n",
    "    \n",
    "    donde el conjunto de índices $t$ recorre el conjunto de números enteros $(\\mathbb{Z})$.\n",
    "\n",
    "-   **Serie temporal:** es una secuencia de datos tomados a lo largo del tiempo\n",
    "    \n",
    "    $$\\boldsymbol{x} = (x_1, x_2,\\ldots x_n)$$\n",
    "    \n",
    "    -   Consideraremos cada dato $x_t$ como una *realización de una\n",
    "        variable aleatoria* $X_t$.\n",
    "    \n",
    "    -   Consecuentemente, consideraremos que una *serie temporal* es una\n",
    "        *realización de un tramo* de un proceso estocástico: \n",
    "        \n",
    "        $$(x_1, x_2,\\ldots x_n) \\text{ es una realización de }\\{X_t \\mid t=1,2,\\ldots n\\}.$$\n",
    "\n"
   ]
  },
  {
   "cell_type": "markdown",
   "metadata": {
    "slideshow": {
     "slide_type": "slide"
    }
   },
   "source": [
    "### El desafío\n",
    "\n"
   ]
  },
  {
   "cell_type": "markdown",
   "metadata": {},
   "source": [
    "El análisis de *series temporales* trata sobre la inferencia\n",
    "estadística de muestras que **frecuentemente NO podemos asumir que sean\n",
    "realizaciones** de variables aleatorias *i.i.d.* (*independientes e\n",
    "idénticamente distribuidas*).\n",
    "\n"
   ]
  },
  {
   "cell_type": "markdown",
   "metadata": {
    "slideshow": {
     "slide_type": "fragment"
    }
   },
   "source": [
    "Además,\n",
    "\n",
    "-   Aunque el marco ideal es que la serie temporal analizada \"**sea estacionaria**\"\n",
    "    \n",
    "    (*abuso del lenguaje que expresa que podemos asumir que la serie es\n",
    "    una realización de un proceso estocástico estacionario*)\n",
    "-   lo habitual es que, por distintos motivos, **NO lo sea**\n",
    "\n"
   ]
  },
  {
   "cell_type": "markdown",
   "metadata": {
    "slideshow": {
     "slide_type": "subslide"
    }
   },
   "source": [
    "El desafío para el analista es\n",
    "\n",
    "-   **primero:** transformar los datos para lograr que sean \"***estacionarios***\"\n",
    "-   **y después:** transformar los datos estacionarios en una secuencia de\n",
    "    \"**datos *i.i.d***\"\n",
    "    \n",
    "    (*nuevo abuso del lenguaje que expresa que podemos asumir que los\n",
    "    datos son realizaciones de variables aleatorias i.i.d.*)\n",
    "\n"
   ]
  },
  {
   "cell_type": "markdown",
   "metadata": {
    "slideshow": {
     "slide_type": "slide"
    }
   },
   "source": [
    "## Estacionariedad\n",
    "\n"
   ]
  },
  {
   "cell_type": "markdown",
   "metadata": {},
   "source": [
    "El mayor objetivo del *análisis de series temporales* es inferir la\n",
    "distribución de un proceso $\\boldsymbol{X}=\\{X_t\\}$ usando una muestra\n",
    "(serie temporal) $\\boldsymbol{x}=(x_1, x_2,\\ldots x_n)$. Así podremos\n",
    "\n",
    "-   **Predecir:** datos futuros\n",
    "-   **Controlar:** datos futuros\n",
    "\n",
    "Pero esto es casi imposible si los datos son inestables o caóticos a\n",
    "lo largo del tiempo\n",
    "\n",
    "Por tanto, algún tipo de <u>estabilidad</u> o <u>estacionariedad</u> es\n",
    "necesaria.\n",
    "\n"
   ]
  },
  {
   "cell_type": "markdown",
   "metadata": {
    "slideshow": {
     "slide_type": "subslide"
    }
   },
   "source": [
    "### Estacionariedad en sentido débil\n",
    "\n"
   ]
  },
  {
   "cell_type": "markdown",
   "metadata": {},
   "source": [
    "Un proceso estocástico $\\boldsymbol{X}=\\{X_t\\}$ se dice **estacionario**\n",
    "(*en sentido débil*) si para todo $t$ y $k$ de $\\mathbb{Z}$\n",
    "\n",
    "\\begin{eqnarray}\n",
    "E(X_t)  & = \\mu \\\\\n",
    "Cov(X_t,X_{t-k}) & = \\gamma_k\n",
    "\\end{eqnarray}\n",
    "\n",
    "-   La primera igualdad sugiere que las realizaciones de $\\{X_t\\}$\n",
    "    generalmente oscilan entorno a $\\mu$.\n",
    "\n",
    "-   La segunda sugiere que la variabilidad de las realizaciones de\n",
    "    $\\{X_t\\}$ entorno a $\\mu$ es constante, pues para el caso particular\n",
    "    $k=0$\n",
    "    \n",
    "    $$Cov(X_t,X_{t-0})=Var(X_t) = \\gamma_0\\quad\\text{ para todo } t$$\n",
    "    \n",
    "    Es decir, $\\gamma_0$ es la varianza común a todas las variables\n",
    "    aleatorias del proceso.\n",
    "\n"
   ]
  },
  {
   "cell_type": "markdown",
   "metadata": {
    "slideshow": {
     "slide_type": "subslide"
    }
   },
   "source": [
    "### Función de autocovarianzas y función de autocorrelación\n",
    "\n"
   ]
  },
  {
   "cell_type": "markdown",
   "metadata": {},
   "source": [
    "-   La secuencia $\\{\\gamma_k\\}$ con $k\\in\\mathbb{Z}$ se denomina\n",
    "    *función de autocovarianzas*\n",
    "\n",
    "-   La secuencia $\\{\\rho_k\\}$ con $k\\in\\mathbb{Z}$, donde\n",
    "    \n",
    "    $$\\rho_k=\\frac{Cov(X_t,X_{t-k})}{\\sqrt{Var(X_t)Var(X_{t-k})}}=\\frac{\\gamma_k}{\\gamma_0} $$\n",
    "    \n",
    "    se denomina *función de autocorrelación* (ACF).\n",
    "\n"
   ]
  },
  {
   "cell_type": "markdown",
   "metadata": {
    "slideshow": {
     "slide_type": "fragment"
    }
   },
   "source": [
    "Debido a la estacionariedad, la correlación entre $X_t$ y $X_{t+k}$ no\n",
    "depende de $t$; tan solo depende de la distancia temporal $k$ entre\n",
    "ambas variables.\n",
    "\n"
   ]
  },
  {
   "cell_type": "markdown",
   "metadata": {
    "slideshow": {
     "slide_type": "subslide"
    }
   },
   "source": [
    "Es más, la desigualdad de Chebyshev\n",
    "$$P\\left(|X_t-\\mu|\\geq c\\sigma\\right)\\leq\\frac{1}{c^2},\\quad\\text{ donde } \\sigma=\\sqrt{\\gamma_0}$$\n",
    "sugiere que para cualquier proceso estacionario (y un $c$ grande), al\n",
    "pintar una realización, tan solo un pequeño porcentaje de los datos\n",
    "caerán fuera de la franja $\\left(\\mu-c\\sigma, \\mu+c\\sigma\\right)$.\n",
    "\n"
   ]
  },
  {
   "cell_type": "code",
   "execution_count": 1,
   "metadata": {
    "slideshow": {
     "slide_type": "notes"
    }
   },
   "outputs": [],
   "source": [
    "import statsmodels.api as sm\n",
    "np.random.seed(12345)\n",
    "arparams = np.array([.75, -.25])\n",
    "maparams = np.array([.65, .35])\n",
    "ar = np.r_[1, -arparams] # add zero-lag and negate\n",
    "ma = np.r_[1, maparams] # add zero-lag\n",
    "y = sm.tsa.arma_generate_sample(ar, ma, 250)\n",
    "plt.figure(figsize=(15,5))\n",
    "plt.plot(y)\n",
    "plt.savefig(image)   # \"image\" no definido. Comentar esta línea al ejecutar el notebook"
   ]
  },
  {
   "cell_type": "markdown",
   "metadata": {},
   "source": [
    "![img](./img/stationaryTimeSeriesExample.png)\n",
    "\n"
   ]
  },
  {
   "cell_type": "markdown",
   "metadata": {
    "slideshow": {
     "slide_type": "slide"
    }
   },
   "source": [
    "## Transformaciones de realizaciones de procesos estocásticos NO estacionarios\n",
    "\n"
   ]
  },
  {
   "cell_type": "markdown",
   "metadata": {},
   "source": [
    "Un proceso estocástico $\\mathbf{X}=\\{X_t\\}$ puede ser\n",
    "\n",
    "-   **NO estacionario en media:** porque $E(X_t)$ depende de $t$.\n",
    "-   **NO estacionario en covarianza:** porque $Cov(X_t,X_{t-k})$ depende de $t$.\n",
    "\n",
    "Separar o distinguir ambos tipos de no estacionariedad no es sencillo.\n",
    "\n"
   ]
  },
  {
   "cell_type": "markdown",
   "metadata": {
    "slideshow": {
     "slide_type": "fragment"
    }
   },
   "source": [
    "Veamos ejemplos de series temporales para los que \n",
    "\n",
    "-   no podemos asumir que son realizaciones de procesos estocásticos\n",
    "    estacionarios\n",
    "-   y algunos intentos de transformación para obtener datos\n",
    "    \"**estacionarios**\" (\\*)\n",
    "    \n",
    "    (*recuerde que esta expresión, aunque extendida, es un abuso del\n",
    "    lenguaje*).\n",
    "\n"
   ]
  },
  {
   "cell_type": "markdown",
   "metadata": {
    "slideshow": {
     "slide_type": "slide"
    }
   },
   "source": [
    "### Internat. airline passengers: monthly totals in thousands. Jan 49 – Dec 60\n",
    "\n"
   ]
  },
  {
   "cell_type": "code",
   "execution_count": 1,
   "metadata": {
    "slideshow": {
     "slide_type": "notes"
    }
   },
   "outputs": [
    {
     "name": "stdout",
     "output_type": "stream",
     "text": [
      "Passengers\n",
      "Month                 \n",
      "1949-01-01         112\n",
      "1949-02-01         118\n",
      "1949-03-01         132\n",
      "1949-04-01         129\n",
      "1949-05-01         121"
     ]
    }
   ],
   "source": [
    "path = './database/Datasets-master/airline-passengers.csv'\n",
    "data = pd.read_csv(path)\n",
    "data['Month']=pd.to_datetime(data['Month'])\n",
    "data=data.set_index(['Month'])\n",
    "print(data.head())"
   ]
  },
  {
   "cell_type": "code",
   "execution_count": 1,
   "metadata": {
    "slideshow": {
     "slide_type": "notes"
    }
   },
   "outputs": [],
   "source": [
    "data['data_log'] = np.log(data)\n",
    "data['data_log_diff'] = data['data_log'].diff(1)\n",
    "data['data_log_diff_diff12'] = data['data_log_diff'].diff(12)\n",
    "print(data.head())\n",
    "print(data.tail())"
   ]
  },
  {
   "cell_type": "markdown",
   "metadata": {},
   "source": [
    "$$\\boldsymbol{x}=(x_1,\\ldots x_{114})$$\n",
    "\n"
   ]
  },
  {
   "cell_type": "code",
   "execution_count": 1,
   "metadata": {
    "slideshow": {
     "slide_type": "notes"
    }
   },
   "outputs": [],
   "source": [
    "plt.figure(figsize=(15,5))\n",
    "plt.subplot(1, 2, 1)\n",
    "plt.plot(data['Passengers'])\n",
    "plt.xlabel(\"Month\")\n",
    "plt.ylabel(r\"Number of Air Passengers, ($\\boldsymbol{x}$)\")\n",
    "plt.subplot(1, 2, 2)\n",
    "plt.hist(data['Passengers'], edgecolor='white', bins=11)\n",
    "plt.tight_layout()\n",
    "plt.savefig(image)   # \"image\" no definido. Comentar esta línea al ejecutar el notebook"
   ]
  },
  {
   "cell_type": "markdown",
   "metadata": {},
   "source": [
    "![img](./img/airlinepass+hist.png)\n",
    "\n",
    "Serie *\"no estacionaria\"* (\\*):\n",
    "\n",
    "-   La media crece de año en año\n",
    "-   La variabilidad estacional crece de año en año (fíjese en la\n",
    "    diferencia entre el verano y el otoño de cada año)\n",
    "\n"
   ]
  },
  {
   "cell_type": "markdown",
   "metadata": {
    "slideshow": {
     "slide_type": "subslide"
    }
   },
   "source": [
    "#### Trasformación logarítmica de los datos\n",
    "\n"
   ]
  },
  {
   "cell_type": "markdown",
   "metadata": {},
   "source": [
    "-   Al aplicar la función logarítmica transformamos **monótonamente** los\n",
    "    datos estabilizando la varianza cuando los valores son mayores que\n",
    "    0.567 (aprox.)\n",
    "\n",
    "-   ¡Pero ocurre lo contrario, pues se amplifica el valor absoluto,\n",
    "    cuando los valores están entre 0 y 0.567! De hecho,\n",
    "    $\\lim\\limits_{x\\to\\infty} \\ln(x)=-\\infty$\n",
    "\n",
    "-   Además, *el logaritmo no está definido para valores negativos*.\n",
    "\n"
   ]
  },
  {
   "cell_type": "code",
   "execution_count": 1,
   "metadata": {
    "slideshow": {
     "slide_type": "notes"
    }
   },
   "outputs": [],
   "source": [
    "# Definir el rango de valores para x (empezando desde un número positivo ya que log(0) no está definido)\n",
    "x = np.linspace(0.01, 7, 400)  # Valores de 0.1 a 10\n",
    "\n",
    "# Calcular y = log(x)\n",
    "y = np.log(x)\n",
    "\n",
    "# Crear el gráfico\n",
    "plt.figure(figsize=(16, 5))\n",
    "plt.plot(x, y, label='y = ln(x)')\n",
    "\n",
    "# Añadir etiquetas y título\n",
    "plt.xlabel('x')\n",
    "plt.ylabel('ln(x)')\n",
    "plt.title('Gráfico de la función logarítmica y = ln(x)')\n",
    "plt.axhline(0, color='black',linewidth=0.5)\n",
    "plt.axvline(0, color='black',linewidth=0.5)\n",
    "plt.grid(color = 'gray', linestyle = '--', linewidth = 0.5)\n",
    "plt.legend()\n",
    "\n",
    "plt.savefig(image)   # \"image\" no definido. Comentar esta línea al ejecutar el notebook"
   ]
  },
  {
   "cell_type": "markdown",
   "metadata": {},
   "source": [
    "![img](./img/funcion_logaritmica.png)\n",
    "\n"
   ]
  },
  {
   "cell_type": "markdown",
   "metadata": {
    "slideshow": {
     "slide_type": "subslide"
    }
   },
   "source": [
    "$$\\ln\\boldsymbol{x}=\\Big(\\ln(x_1),\\ldots \\ln(x_{114})\\Big)$$\n",
    "\n"
   ]
  },
  {
   "cell_type": "code",
   "execution_count": 1,
   "metadata": {
    "slideshow": {
     "slide_type": "notes"
    }
   },
   "outputs": [],
   "source": [
    "plt.figure(figsize=(15,5))\n",
    "plt.subplot(1, 2, 1)\n",
    "plt.plot(data['data_log'])\n",
    "plt.xlabel(\"Month\")\n",
    "plt.ylabel(r\"Log-Passengers, ($\\ln\\boldsymbol{x}$) \")\n",
    "plt.subplot(1, 2, 2)\n",
    "plt.hist(data['data_log'], edgecolor='white', bins=11)\n",
    "plt.tight_layout()\n",
    "plt.savefig(image)   # \"image\" no definido. Comentar esta línea al ejecutar el notebook"
   ]
  },
  {
   "cell_type": "markdown",
   "metadata": {},
   "source": [
    "![img](./img/airlinepass_log+hist.png)\n",
    "\n",
    "Ésta tampoco parece la realización de un proceso estocástico *estacionario*\n",
    "\n",
    "-   Ahora la variabilidad estacional parece mantenerse de año en año\n",
    "-   Pero la media sigue creciendo de año en año\n",
    "\n"
   ]
  },
  {
   "cell_type": "markdown",
   "metadata": {
    "slideshow": {
     "slide_type": "subslide"
    }
   },
   "source": [
    "#### Primera diferencia de la trasformación logarítmica de los datos\n",
    "\n"
   ]
  },
  {
   "cell_type": "markdown",
   "metadata": {},
   "source": [
    "$$\\boldsymbol{y}=\\nabla\\ln\\boldsymbol{x}=\\Big(\\big[\\ln(x_2)-\\ln(x_1)\\big],\\ldots\\; \\big[\\ln(x_{114})-\\ln(x_{113})\\big]\\Big)$$\n",
    "\n"
   ]
  },
  {
   "cell_type": "code",
   "execution_count": 1,
   "metadata": {
    "slideshow": {
     "slide_type": "notes"
    }
   },
   "outputs": [],
   "source": [
    "plt.figure(figsize=(15,5))\n",
    "plt.subplot(1, 2, 1)\n",
    "plt.plot(data['data_log_diff'])\n",
    "plt.xlabel(\"Month\")\n",
    "plt.ylabel(r\"$\\nabla\\ln\\boldsymbol{x}$\")\n",
    "plt.subplot(1, 2, 2)\n",
    "plt.hist(data['data_log_diff'], edgecolor='white', bins=11)\n",
    "plt.tight_layout()\n",
    "plt.savefig(image)   # \"image\" no definido. Comentar esta línea al ejecutar el notebook"
   ]
  },
  {
   "cell_type": "markdown",
   "metadata": {},
   "source": [
    "![img](./img/airlinepass_log_diff+hist.png)\n",
    "\n",
    "Esta serie tampoco parece *\"estacionaria\"* (\\*)\n",
    "\n",
    "-   Hay un componente periódico (de naturaleza estacional), debido a que\n",
    "    hay pocos viajes en otoño y muchos en Navidad, Semana Santa y verano\n",
    "    (i.e., el número esperado de viajeros parece cambiar en función del\n",
    "    mes o estación del año).\n",
    "\n"
   ]
  },
  {
   "cell_type": "markdown",
   "metadata": {
    "slideshow": {
     "slide_type": "subslide"
    }
   },
   "source": [
    "#### Diferencia estacional de la primera diferencia de la trasformación logarítmica de los datos\n",
    "\n"
   ]
  },
  {
   "cell_type": "markdown",
   "metadata": {},
   "source": [
    "$$\\boldsymbol{z}=\\nabla_{12}(\\nabla\\ln\\boldsymbol{x})=\\nabla_{12}(\\boldsymbol{y})=\\Big((y_{13}-y_{1}),\\ldots\\; (y_{113}-y_{101})\\Big)$$\n",
    "\n"
   ]
  },
  {
   "cell_type": "code",
   "execution_count": 1,
   "metadata": {
    "slideshow": {
     "slide_type": "notes"
    }
   },
   "outputs": [],
   "source": [
    "plt.figure(figsize=(15,5))\n",
    "plt.subplot(1, 2, 1)\n",
    "plt.plot(data['data_log_diff_diff12'])\n",
    "plt.xlabel(\"Month\")\n",
    "plt.ylabel(r\"$\\nabla_{12}(\\nabla\\ln\\boldsymbol{x})$\")\n",
    "plt.subplot(1, 2, 2)\n",
    "plt.hist(data['data_log_diff_diff12'], edgecolor='white', bins=11)\n",
    "plt.tight_layout()\n",
    "plt.savefig(image)   # \"image\" no definido. Comentar esta línea al ejecutar el notebook"
   ]
  },
  {
   "cell_type": "markdown",
   "metadata": {},
   "source": [
    "![img](./img/airlinepass_log_diff_diff12+hist.png)\n",
    "\n",
    "Esta serie se aproxima más al aspecto de la realización de un proceso *estacionario*\n",
    "\n",
    "-   Aunque parece haber más varianza a principios de los 50 que a finales\n",
    "-   De propina, el histograma sugiere una distribución aproximadamente Gaussiana\n",
    "\n"
   ]
  },
  {
   "cell_type": "markdown",
   "metadata": {
    "slideshow": {
     "slide_type": "slide"
    }
   },
   "source": [
    "### Tasa logarítmica de crecimiento\n",
    "\n"
   ]
  },
  {
   "cell_type": "markdown",
   "metadata": {},
   "source": [
    "La tasa logarítmica de variación de $\\boldsymbol{y}$ se define como\n",
    "\n",
    "$$\\boldsymbol{z}=\\nabla\\ln\\boldsymbol{y} = \\Big(\\big[\\ln(y_2)-\\ln(y_1)\\big],\\ldots\\; \\big[\\ln(y_{n})-\\ln(y_{n-1})\\big]\\Big)$$\n",
    "\n",
    "es decir: $z_t=\\ln y_t- \\ln y_{t-1}$\n",
    "\n",
    "Es una aceptable *aproximación* de la tasa de crecimiento (en tanto\n",
    "por uno) si los incrementos son pequeños.\n",
    "\n",
    "<style>\n",
    ".reveal  td {font-size: 120%;}\n",
    "</style>\n",
    "\n",
    "| $t$|$y_t$|Incremento en tanto por uno|$\\ln y_t$|Primera diferencia de $\\ln\\boldsymbol{y}$|Incremento en tanto por uno desde $t=1$|$\\ln y_t- \\ln y_{1}$|\n",
    "|---|---|---|---|---|---|---|---|\n",
    "| 1|100.||4.605170||||\n",
    "| 2|101.00000|0.01|4.615120|0.0100|0.0100|0.0100|\n",
    "| 3|102.01000|0.01|4.625071|0.0100|0.0201|0.0199|\n",
    "| 4|103.03010|0.01|4.635021|0.0100|0.0303|0.0299|\n",
    "| 5|104.06040|0.01|4.644971|0.0100|0.0406|0.0398|\n",
    "| 6|105.10100|0.01|4.654922|0.0100|0.0510|0.0498|\n",
    "| 7|106.15201|0.01|4.664872|0.0100|0.0615|0.0597|\n",
    "| 8|107.21353|0.01|4.674823|0.0100|0.0721|0.0697|\n",
    "| 9|108.28567|0.01|4.684773|0.0100|0.0829|0.0796|\n",
    "| 10|109.36853|0.01|4.694723|0.0100|0.0937|0.0896|\n",
    "\n"
   ]
  },
  {
   "cell_type": "markdown",
   "metadata": {
    "slideshow": {
     "slide_type": "subslide"
    }
   },
   "source": [
    "#### Observaciones sobre los datos transformados\n",
    "\n"
   ]
  },
  {
   "cell_type": "markdown",
   "metadata": {},
   "source": [
    "<style>\n",
    ".reveal  td {font-size: 130%;}\n",
    "</style>\n",
    "\n",
    "| Transformación  de la serie temporal  $\\displaystyle \\boldsymbol{y}=\\{y_t\\},\\; t=1:n$|Observaciones|\n",
    "|---|---|\n",
    "| $\\boldsymbol{z}=\\ln\\boldsymbol{y}=\\{\\ln y_t\\}$|A veces independiza la volatilidad del nivel e induce normalidad.|\n",
    "| $\\boldsymbol{z}=\\nabla\\boldsymbol{y}=\\{y_t-y_{t-1}\\}$|Indica al crecimiento absoluto entre  periodos consecutivos.|\n",
    "| $\\boldsymbol{z}=\\nabla\\ln\\boldsymbol{y}$|Tasa logarítmica de crecimiento. Aproximación del crecimiento relativo entre periodos consecutivos.|\n",
    "| $\\boldsymbol{z}=\\nabla\\nabla\\ln\\boldsymbol{y}=\\nabla^2\\ln\\boldsymbol{y}$|Cambio en la tasa log, de crecimiento. Indica la “aceleración” en el crecimiento relativo.|\n",
    "| $\\boldsymbol{z}=\\nabla_{s}\\ln\\boldsymbol{y}=$  $\\{\\ln{y_t}-\\ln{y_{t-s}}\\}$|Tasa de crecimiento acumulada en un ciclo estacional completo ($s$ períodos). Cuando el período estacional es de un año, se conoce como “tasa anual” o “tasa interanual”.|\n",
    "| $\\boldsymbol{z}=\\nabla\\nabla_{s}\\ln\\boldsymbol{y}$|Cambio en la tasa de crecimiento acumulada en un ciclo estacional completo. Es un indicador de aceleración en el crecimiento acumulado.|\n",
    "\n"
   ]
  }
 ],
 "metadata": {
  "kernelspec": {
   "display_name": "Python 3",
   "language": "python",
   "name": "python3"
  },
  "language_info": {
   "codemirror_mode": {
    "name": "ipython",
    "version": 3
   },
   "file_extension": ".py",
   "mimetype": "text/x-python",
   "name": "python",
   "nbconvert_exporter": "python",
   "pygments_lexer": "ipython3",
   "version": "3.9.2"
  },
  "org": null
 },
 "nbformat": 4,
 "nbformat_minor": 1
}
