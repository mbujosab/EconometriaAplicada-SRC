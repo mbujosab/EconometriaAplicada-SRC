{
 "cells": [
  {
   "cell_type": "markdown",
   "id": "8a34e44c-76cb-49aa-9b28-6d18b09df1d8",
   "metadata": {},
   "source": [
    "Econometría Aplicada. Lección 3\n",
    "===============================\n",
    "\n",
    "**Author:** Marcos Bujosa\n",
    "\n"
   ]
  },
  {
   "cell_type": "markdown",
   "id": "54b357be-0d92-4577-baa9-1bfadc36475b",
   "metadata": {},
   "source": [
    "<div class=\"ABSTRACT\" id=\"org212a306\">\n",
    "<p>\n",
    "En esta lección voy a continuar pero con R y usaré la librería\n",
    "<code>tfarima</code> de José Luis Gallego siempre que pueda.\n",
    "</p>\n",
    "\n",
    "</div>\n",
    "\n"
   ]
  },
  {
   "cell_type": "markdown",
   "id": "a639bfef-06f0-429a-95eb-a7007bbc6791",
   "metadata": {
    "slideshow": {
     "slide_type": "notes"
    }
   },
   "source": [
    "#### Carga de algunas librerías de R\n",
    "\n"
   ]
  },
  {
   "cell_type": "markdown",
   "id": "c6aea905-1ede-4408-9a21-fa3001e38433",
   "metadata": {
    "slideshow": {
     "slide_type": "notes"
    }
   },
   "source": [
    "Primero cargamos la librería `tfarima` (Repositorio Cran:\n",
    "[https://cran.r-project.org/web/packages/tfarima/index.html](https://cran.r-project.org/web/packages/tfarima/index.html);\n",
    "repositorio GitHub: [https://github.com/gallegoj/tfarima](https://github.com/gallegoj/tfarima))\n",
    "\n"
   ]
  },
  {
   "cell_type": "code",
   "execution_count": 1,
   "id": "925e3c64-3957-49a2-93cf-de3352fb7335",
   "metadata": {
    "slideshow": {
     "slide_type": "notes"
    }
   },
   "outputs": [],
   "source": [
    "library(tfarima)      # librería de José Luis Gallego para Time Series\n",
    "library(latticeExtra) # para gráficos con doble eje vertical (doubleYScale)\n",
    "library(readr)        # para leer ficheros CSV\n",
    "library(ggplot2)      # para el scatterplot (alternaticamente library(tidyverse))\n",
    "library(jtools)       # para representación resultados estimación\n",
    "library(zoo)          # para generar objetos ts (time series)"
   ]
  },
  {
   "cell_type": "markdown",
   "id": "64e97798-7a27-481d-acda-14d4e22ce5f6",
   "metadata": {
    "slideshow": {
     "slide_type": "notes"
    }
   },
   "source": [
    "y además fijamos los parámetros por defecto para las figuras en `png`\n",
    "del notebook\n",
    "\n"
   ]
  },
  {
   "cell_type": "code",
   "execution_count": 1,
   "id": "8b60e3a1-9980-459d-b387-08092e2cf03f",
   "metadata": {
    "slideshow": {
     "slide_type": "notes"
    }
   },
   "outputs": [],
   "source": [
    "# fijamos el tamaño de las figuras que se generan en el notebook\n",
    "options(repr.plot.width = 12, repr.plot.height = 4, repr.plot.res = 200)"
   ]
  },
  {
   "cell_type": "markdown",
   "id": "7daf9f32-4195-4780-8a55-1645eca31114",
   "metadata": {
    "slideshow": {
     "slide_type": "slide"
    }
   },
   "source": [
    "## Correlación\n",
    "\n"
   ]
  },
  {
   "cell_type": "markdown",
   "id": "33a34782-c293-4b6a-844a-72a073e53d96",
   "metadata": {},
   "source": [
    "La correlación entre dos muestras de tamaño $N$ (dos vectores de datos\n",
    "de $\\mathbb{R}^N$) es el [**coseno** del ángulo formado los vectores de\n",
    "dichos datos en desviaciones respecto a sus correspondientes medias](https://mbujosab.github.io/Ectr/apuntes-Ectr-print.pdf#subsection.3.1).\n",
    "$$\\rho_{\\boldsymbol{x}\\boldsymbol{y}}=\\frac{\\sigma_{\\boldsymbol{x}\\boldsymbol{y}}}{\\sigma_{\\boldsymbol{x}}\\sigma_{\\boldsymbol{y}}}$$\n",
    "\n"
   ]
  },
  {
   "cell_type": "markdown",
   "id": "9a871aeb-65e8-4076-8ddd-26223891af52",
   "metadata": {
    "slideshow": {
     "slide_type": "fragment"
    }
   },
   "source": [
    "Por tanto la correlación es algún valor entre $-1$ y $1$.\n",
    "\n",
    "-   Si la correlación es $1$ significa que\n",
    "    $\\;\\boldsymbol{y}-\\boldsymbol{\\bar{y}}\\;$ es\n",
    "    $\\;a(\\boldsymbol{x}-\\boldsymbol{\\bar{x}})\\;$ para algún $a$ positivo\n",
    "-   Si la correlación es $-1$ significa que\n",
    "    $\\;\\boldsymbol{y}-\\boldsymbol{\\bar{y}}\\;$ es\n",
    "    $\\;a(\\boldsymbol{x}-\\boldsymbol{\\bar{x}})\\;$ para algún $a$ negativo\n",
    "-   Cuando la correlación es $0$ el vector\n",
    "    $\\;\\boldsymbol{y}-\\boldsymbol{\\bar{y}}\\;$ es perpendicular al vector\n",
    "    $\\;\\boldsymbol{x}-\\boldsymbol{\\bar{x}}\\;$\n",
    "\n"
   ]
  },
  {
   "cell_type": "markdown",
   "id": "ebb34288-b3c1-49e8-a9fe-8670f241000a",
   "metadata": {
    "slideshow": {
     "slide_type": "subslide"
    }
   },
   "source": [
    "### La causalidad y correlación\n",
    "\n"
   ]
  },
  {
   "cell_type": "markdown",
   "id": "6dc03700-3362-4640-bf7a-cfc9e8644a3a",
   "metadata": {},
   "source": [
    "Cuando existe relación causal entre variables sus muestras suelen\n",
    "estar correladas.\n",
    "\n",
    "-   Número de horas de sol tiene correlación positiva con la temperatura ambiente\n",
    "-   La altitud de una localidad (o su latitud) tiene una correlación\n",
    "    negativa con la temperatura ambiente\n",
    "\n"
   ]
  },
  {
   "cell_type": "markdown",
   "id": "8faff92a-730e-42ff-ae8e-4dab7eb5ff3c",
   "metadata": {
    "slideshow": {
     "slide_type": "fragment"
    }
   },
   "source": [
    "Pero **correlaciones significativas no indican la existencia de relaciones causales**.\n",
    "\n",
    "-   En una playa: consumo de helados y ataques de tiburón a los bañistas\n",
    "\n"
   ]
  },
  {
   "cell_type": "markdown",
   "id": "8bef0a53-0c05-4b7b-be1f-079e5829bf22",
   "metadata": {
    "slideshow": {
     "slide_type": "slide"
    }
   },
   "source": [
    "### Correlación espuria\n",
    "\n"
   ]
  },
  {
   "cell_type": "markdown",
   "id": "7244e96d-6846-4729-81e2-aa3476e0d96f",
   "metadata": {},
   "source": [
    "La correlación entre variables sin relación causal se denomina\n",
    "*correlación espuria*.\n",
    "\n"
   ]
  },
  {
   "cell_type": "markdown",
   "id": "4ebc35e8-900f-4925-95fc-87d7f15fbfd0",
   "metadata": {
    "slideshow": {
     "slide_type": "fragment"
    }
   },
   "source": [
    "-   Que haya correlación espuria no significa que \"en realidad no hay correlación\".\n",
    "-   Que haya correlación espuria significa que *es erróneo interpretar*\n",
    "    que dicha correlación se debe a *una relación causal*.\n",
    "\n"
   ]
  },
  {
   "cell_type": "markdown",
   "id": "39b67f8b-4c70-4288-9d5f-8f4d930ae0da",
   "metadata": {
    "slideshow": {
     "slide_type": "fragment"
    }
   },
   "source": [
    "Puede ser que una causa común induzca la correlación entre ambas variables\n",
    "\n",
    "-   consumo de helados y venta de bañadores\n",
    "\n",
    "Puede ser que no exista causa alguna y aún así haya correlación\n",
    "\n",
    "-   [Un ejemplo](https://www.tylervigen.com/spurious/correlation/7591_the-distance-between-uranus-and-mercury_correlates-with_electricity-generation-in-japan)\n",
    "-   [Otro](https://www.tylervigen.com/spurious/correlation/5905_frozen-yogurt-consumption_correlates-with_violent-crime-rates)\n",
    "-   Más ejemplos [aquí](https://www.tylervigen.com/spurious-correlations)\n",
    "\n"
   ]
  },
  {
   "cell_type": "markdown",
   "id": "0dd08358-e0ab-47ec-9fb1-6fbe57563f68",
   "metadata": {
    "slideshow": {
     "slide_type": "slide"
    }
   },
   "source": [
    "### Las series con tendencia suelen presentar elevadas correlaciones.\n",
    "\n"
   ]
  },
  {
   "cell_type": "markdown",
   "id": "77c42a6b-975c-45a8-8f04-a53ef8fba0d6",
   "metadata": {},
   "source": [
    "#### Ejemplo de correlación espuria: PNB vs incidencia de melanoma\n",
    "\n"
   ]
  },
  {
   "cell_type": "code",
   "execution_count": 1,
   "id": "e4a3b88a-7ebc-4684-aaa7-1b119e149aaf",
   "metadata": {
    "slideshow": {
     "slide_type": "notes"
    }
   },
   "outputs": [
    {
     "name": "stdout",
     "output_type": "stream",
     "text": [
      "| obs   | GNP   | Melanoma |\n",
      "|-------+-------+----------|\n",
      "| <dbl> | <dbl> | <dbl>    |\n",
      "| 1936  | 193.0 | 1.0      |\n",
      "| 1937  | 203.2 | 0.8      |\n",
      "| 1938  | 192.9 | 0.8      |\n",
      "#+caption: A tibble: 3 × 3"
     ]
    }
   ],
   "source": [
    "data_frame <- read_csv('datos/GNPvsMelanoma.csv',show_col_types = FALSE)\n",
    "head(data_frame, 3)"
   ]
  },
  {
   "cell_type": "code",
   "execution_count": 1,
   "id": "e27aead6-4657-4df4-a82e-536ca51c53bd",
   "metadata": {
    "slideshow": {
     "slide_type": "notes"
    }
   },
   "outputs": [],
   "source": [
    "# se pueden graficar dos columnas de un data_frame al mismo tiempo\n",
    "kk <- xyplot(GNP + Melanoma ~ obs, data_frame, type=\"l\")\n",
    "# Se agrega dos ejes Y. Se construye cada serie por separado\n",
    "obj1 <- xyplot(GNP ~ obs, data_frame, type = \"l\" , lwd=2, ylab=\"GNP (miles de millones de $)\",  xlab=\"Years\")\n",
    "obj2 <- xyplot(Melanoma ~ obs, data_frame, type = \"l\", lwd=2, ylab=\"Casos de melanoma\")\n",
    "# --> se realiza la grafica con el segundo eje Y\n",
    "doubleYScale(obj1, obj2, add.ylab2 = TRUE)"
   ]
  },
  {
   "cell_type": "markdown",
   "id": "35ffe1f6-34d9-4d62-b2e7-75150246b951",
   "metadata": {},
   "source": [
    "Serie anual (1936&#x2013;1972) del PNB anual USA en miles de millones de\n",
    "dólares corrientes e incidencia de melanoma en la población masculina\n",
    "de Connecticut.\n",
    "\n",
    "![img](./img/lecc03/GNPvsMelanoma.png)\n",
    "\n"
   ]
  },
  {
   "cell_type": "code",
   "execution_count": 1,
   "id": "f3c988b3-5def-4df0-8d9a-e1eb10f8329e",
   "metadata": {
    "slideshow": {
     "slide_type": "notes"
    }
   },
   "outputs": [],
   "source": [
    "# transitoriamente cambio el tamaño de la siguiente figura\n",
    "options(repr.plot.width = 4, repr.plot.height = 4, repr.plot.res = 100)\n",
    "ggplot(data_frame, aes(x = Melanoma, y = GNP)) + geom_point()\n",
    "options(repr.plot.width = 12, repr.plot.height = 4, repr.plot.res = 200)"
   ]
  },
  {
   "cell_type": "markdown",
   "id": "32c2ead2-503a-4b66-9179-41703950f12d",
   "metadata": {
    "slideshow": {
     "slide_type": "subslide"
    }
   },
   "source": [
    "**La correlación es $0.93$**\n",
    "(*debido a que ambas series presentan una tendencia creciente*)\n",
    "\n",
    "![img](./img/lecc03/Scatter-GNPvsMelanoma.png)\n",
    "\n"
   ]
  },
  {
   "cell_type": "markdown",
   "id": "38e2c60f-5547-419c-9311-cac73d38ed03",
   "metadata": {
    "slideshow": {
     "slide_type": "subslide"
    }
   },
   "source": [
    "Si regresamos el PNB sobre la incidencia de casos de melanoma\n",
    "obtenemos un excelente ajuste (*coef. de determinación de $0.87$ y\n",
    "coeficientes muy significativos*).\n",
    "\n",
    "**Ello no significa que el modelo tenga alguna capacidad explicativa o\n",
    "predictiva** (*pues la incidencia de melanoma en\n",
    "Connecticut no hace crecer la economía de EEUU*).\n",
    "\n"
   ]
  },
  {
   "cell_type": "code",
   "execution_count": 1,
   "id": "ecaf2742-228b-4c3f-92ce-5946e8f2b473",
   "metadata": {
    "slideshow": {
     "slide_type": "fragment"
    }
   },
   "outputs": [
    {
     "name": "stdout",
     "output_type": "stream",
     "text": [
      "#+begin_example\n",
      "\u001b[4mMODEL INFO:\u001b[24m\n",
      "\u001b[3mObservations:\u001b[23m 37\n",
      "\u001b[3mDependent Variable:\u001b[23m GNP\n",
      "\u001b[3mType:\u001b[23m OLS linear regression \n",
      "\n",
      "\u001b[4mMODEL FIT:\u001b[24m\n",
      "\u001b[3mF\u001b[23m(1,35) = 231.84, \u001b[3mp\u001b[23m = 0.00\n",
      "\u001b[3mR² = \u001b[23m0.87\n",
      "\u001b[3mAdj. R² = \u001b[23m0.87 \n",
      "\n",
      "\u001b[3mStandard errors: OLS\u001b[23m\n",
      "--------------------------------------------------\n",
      "                      Est.    S.E.   t val.      p\n",
      "----------------- -------- ------- -------- ------\n",
      "(Intercept)         118.57   23.73     5.00   0.00\n",
      "Melanoma            118.98    7.81    15.23   0.00\n",
      "--------------------------------------------------\n",
      "#+end_example"
     ]
    }
   ],
   "source": [
    "# regresión de la variable GNP sobre la variable Melanoma del data_frame\n",
    "summ( lm(GNP ~ Melanoma, data = data_frame) ) # summ from jtools cambia la representación de resultados"
   ]
  },
  {
   "cell_type": "markdown",
   "id": "0daedc40-3b6d-472d-9135-072ad153d827",
   "metadata": {
    "slideshow": {
     "slide_type": "subslide"
    }
   },
   "source": [
    "### Una manera de ver que la correlación del ejemplo es *espuria* (que no hay causalidad)\n",
    "\n"
   ]
  },
  {
   "cell_type": "markdown",
   "id": "e717acb1-9b7b-4487-b5f9-56765ee54eb5",
   "metadata": {},
   "source": [
    "Si fuera cierto que \n",
    "$$\n",
    "\\boldsymbol{y}=\\beta_1 \\boldsymbol{1} + \\beta_2 \\boldsymbol{x} + \\boldsymbol{u}\n",
    "$$\n",
    "Entonces también sería cierto que\n",
    "$$\n",
    "\\nabla\\boldsymbol{y}= \\beta_2 \\nabla\\boldsymbol{x} + \\nabla\\boldsymbol{u}\n",
    "$$\n",
    "\n"
   ]
  },
  {
   "cell_type": "code",
   "execution_count": 1,
   "id": "265973ec-7e9c-4440-b9c8-082f29e4552d",
   "metadata": {
    "slideshow": {
     "slide_type": "notes"
    }
   },
   "outputs": [],
   "source": [
    "# creamos un objeto ts (\"time series\")\n",
    "datos_ts <- as.ts( read.zoo( data_frame ) )\n",
    "# creamos dos nuevas series temporales con las primeras diferencias de las columnas \"GNP\" y \"Melanoma\" de datos_ts\n",
    "d_GNP      = diff(datos_ts[,\"GNP\"])\n",
    "d_Melanoma = diff(datos_ts[,\"Melanoma\"])"
   ]
  },
  {
   "cell_type": "code",
   "execution_count": 1,
   "id": "b54baf9c-46f0-420f-a03d-db491173999e",
   "metadata": {
    "slideshow": {
     "slide_type": "notes"
    }
   },
   "outputs": [
    {
     "name": "stdout",
     "output_type": "stream",
     "text": [
      "|   | date       | d_GNP | d_Melanoma |\n",
      "|---+------------+-------+------------|\n",
      "|   | <date>     | <dbl> | <dbl>      |\n",
      "| 1 | 1937-01-01 | 10.2  | -0.2       |\n",
      "| 2 | 1938-01-01 | -10.3 | 0.0        |\n",
      "#+caption: A data.frame: 2 × 3"
     ]
    }
   ],
   "source": [
    "# creamos un nuevo data frame con las primeras diferencias\n",
    "DF.diferencias = data.frame(date = zoo::as.Date(time(d_GNP)),\n",
    "                            d_GNP = as.matrix(d_GNP),\n",
    "                            d_Melanoma = as.matrix(d_Melanoma))\n",
    "head(DF.diferencias, 2)"
   ]
  },
  {
   "cell_type": "code",
   "execution_count": 1,
   "id": "61ccbd0e-5029-4739-9039-71c68a9fddbd",
   "metadata": {
    "slideshow": {
     "slide_type": "notes"
    }
   },
   "outputs": [],
   "source": [
    "# gráfico conjunto con dos columnas del data frame DF.diferencias\n",
    "kk <- xyplot(d_GNP + d_Melanoma ~ date, DF.diferencias, type=\"l\")\n",
    "obj1 <- xyplot(d_GNP ~ date, DF.diferencias, type = \"l\" , lwd=2, ylab=\"Incremento GNP\",  xlab=\"Years\")\n",
    "obj2 <- xyplot(d_Melanoma ~ date, DF.diferencias, type = \"l\", lwd=2, ylab=\"Incremento casos de melanoma\")\n",
    "doubleYScale(obj1, obj2, add.ylab2 = TRUE)"
   ]
  },
  {
   "cell_type": "markdown",
   "id": "e18fda01-c5ea-438e-8caf-fffe120ff479",
   "metadata": {},
   "source": [
    "![img](./img/lecc03/d_GNPvsd_Melanoma.png)\n",
    "\n"
   ]
  },
  {
   "cell_type": "markdown",
   "id": "d3c650b9-58d6-45ad-9c55-612d9c1413d3",
   "metadata": {
    "slideshow": {
     "slide_type": "subslide"
    }
   },
   "source": [
    "Sin embargo, al realizar la regresión de la primera diferencia de\n",
    "`GNP` sobre la primera diferencia de `Melanoma` obtenemos un ajuste\n",
    "pésimo (tan solo la constante es significativa&#x2026; ¡cuando en teoría $\\beta_1=0$!).\n",
    "\n"
   ]
  },
  {
   "cell_type": "code",
   "execution_count": 1,
   "id": "ab35c31b-8376-4f9f-a005-07b1d76b7929",
   "metadata": {},
   "outputs": [
    {
     "name": "stdout",
     "output_type": "stream",
     "text": [
      "#+begin_example\n",
      "\u001b[4mMODEL INFO:\u001b[24m\n",
      "\u001b[3mObservations:\u001b[23m 36\n",
      "\u001b[3mDependent Variable:\u001b[23m d_GNP\n",
      "\u001b[3mType:\u001b[23m OLS linear regression \n",
      "\n",
      "\u001b[4mMODEL FIT:\u001b[24m\n",
      "\u001b[3mF\u001b[23m(1,34) = 0.01, \u001b[3mp\u001b[23m = 0.92\n",
      "\u001b[3mR² = \u001b[23m0.00\n",
      "\u001b[3mAdj. R² = \u001b[23m-0.03 \n",
      "\n",
      "\u001b[3mStandard errors: OLS\u001b[23m\n",
      "------------------------------------------------\n",
      "                     Est.   S.E.   t val.      p\n",
      "----------------- ------- ------ -------- ------\n",
      "(Intercept)         16.57   3.18     5.21   0.00\n",
      "d_Melanoma           0.71   6.59     0.11   0.92\n",
      "------------------------------------------------\n",
      "#+end_example"
     ]
    }
   ],
   "source": [
    "# resultados del ajuste MCO entre d_GNP y d_Melanoma\n",
    "summ( lm(d_GNP ~ d_Melanoma) )"
   ]
  },
  {
   "cell_type": "markdown",
   "id": "edfbe2d8-2990-4f9c-93c5-40954cb3144f",
   "metadata": {
    "slideshow": {
     "slide_type": "slide"
    }
   },
   "source": [
    "## Cointegración\n",
    "\n"
   ]
  },
  {
   "cell_type": "markdown",
   "id": "15f225cb-8d86-4155-89cb-d48875f46388",
   "metadata": {},
   "source": [
    "-   Una serie temporal es *integrada de orden $d$*, (ó $I(d)$) si $d$ es\n",
    "    el mínimo número de diferencias ordinarias necesarias para lograr la\n",
    "    estacionariedad en media.\n",
    "    -   Consecuentemente, una serie estacionaria en media es $I(0)$.\n",
    "\n",
    "-   En ocasiones una combinación lineal de series $I(d)$ (i.e., series\n",
    "    con el mismo orden de integración) resulta ser integrada con un\n",
    "    orden menor a $d$; entonces se dice que están *cointegradas*:\n",
    "    \n",
    "    $\\boldsymbol{x}$, $\\boldsymbol{y}$ y $\\boldsymbol{z}$ *están\n",
    "    cointegradas* si son $I(d)$ y existen $a$, $b$, $c$ tales que\n",
    "    $$a\\boldsymbol{x}+b\\boldsymbol{y}+c\\boldsymbol{z}\\quad\\text{es\n",
    "      cointegrada de orden $d-m$},$$ con $m>0\\;$ (se dice que tienen $m$\n",
    "    relaciones de integración).\n",
    "\n"
   ]
  },
  {
   "cell_type": "markdown",
   "id": "a31df94e-4804-467f-bf7a-5e0f6fc702d6",
   "metadata": {
    "slideshow": {
     "slide_type": "subslide"
    }
   },
   "source": [
    "Para estimar la relación de cointegración, se ajusta una regresión\n",
    "lineal entre las variables potencialmente cointegradas y se evalúa la\n",
    "estacionariedad o el orden de integración de los residuos\n",
    "\n",
    "-   La situación más habitual es tener dos series $\\boldsymbol{x}$ e\n",
    "    $\\boldsymbol{y}$ que son $I(1)$ y encontrar por MCO un\n",
    "    $\\hat{\\alpha}$ tal que $\\boldsymbol{y}-\\hat{\\alpha}\\boldsymbol{x}$\n",
    "    es $I(0)$.\n",
    "\n"
   ]
  },
  {
   "cell_type": "markdown",
   "id": "0dce171d-15ec-4419-8172-9290d0682eb9",
   "metadata": {
    "slideshow": {
     "slide_type": "fragment"
    }
   },
   "source": [
    "La cointegración entre series temporales suele tener dos\n",
    "interpretaciones relacionadas entre sí:\n",
    "\n",
    "1.  Las series poseen *una tendencia común* (pues hay una combinación\n",
    "    lineal entre ellas que cancela dicha tendencia)\n",
    "\n",
    "2.  *Existe un equilibrio a largo plazo entre dichas series*, de manera\n",
    "    que las desviaciones del equilibrio tienden a desaparecer a corto\n",
    "    plazo\n",
    "\n"
   ]
  },
  {
   "cell_type": "markdown",
   "id": "790a55d6-f254-46ae-8f47-25ac7798d30e",
   "metadata": {
    "slideshow": {
     "slide_type": "slide"
    }
   },
   "source": [
    "#### Ejemplo de series cointegradas: tipos de interes en UK a corto y largo plazo\n",
    "\n"
   ]
  },
  {
   "cell_type": "code",
   "execution_count": 1,
   "id": "9648b2b9-2547-40d0-af4c-0fcfca130632",
   "metadata": {
    "slideshow": {
     "slide_type": "notes"
    }
   },
   "outputs": [
    {
     "name": "stdout",
     "output_type": "stream",
     "text": [
      "Long Short\n",
      "1952 Q2 4.23  2.32\n",
      "1952 Q3 4.36  2.47\n",
      "1952 Q4 4.19  2.42"
     ]
    }
   ],
   "source": [
    "# leemos los datos cuartrimestales como un objeto zoo\n",
    "UK_zoo <- read.csv.zoo(\"datos/UK_Interest_rates.csv\", FUN = as.yearqtr, format = \"%YQ%q\",\n",
    "  strip.white = TRUE)\n",
    "head(UK_zoo,3)"
   ]
  },
  {
   "cell_type": "code",
   "execution_count": 1,
   "id": "465f1c8c-beea-4a33-ab8e-39fdd492e5ed",
   "metadata": {
    "slideshow": {
     "slide_type": "notes"
    }
   },
   "outputs": [
    {
     "name": "stdout",
     "output_type": "stream",
     "text": [
      "|   | Index     | Long  | Short |\n",
      "|---+-----------+-------+-------|\n",
      "|   | <yearqtr> | <dbl> | <dbl> |\n",
      "| 1 | 1952 Q2   | 4.23  | 2.32  |\n",
      "| 2 | 1952 Q3   | 4.36  | 2.47  |\n",
      "| 3 | 1952 Q4   | 4.19  | 2.42  |\n",
      "#+caption: A data.frame: 3 × 3"
     ]
    }
   ],
   "source": [
    "# creamos un data frame a partir de UK_zoo (data frame para la figura de doble eje)\n",
    "UK_df = fortify.zoo(UK_zoo)\n",
    "head(UK_df,3)"
   ]
  },
  {
   "cell_type": "code",
   "execution_count": 1,
   "id": "6932c362-dbb4-4a60-8014-60b66eec85bd",
   "metadata": {
    "slideshow": {
     "slide_type": "notes"
    }
   },
   "outputs": [
    {
     "name": "stdout",
     "output_type": "stream",
     "text": [
      "| Long | Short |\n",
      "|------+-------|\n",
      "| 4.23 | 2.32  |\n",
      "| 4.36 | 2.47  |\n",
      "| 4.19 | 2.42  |\n",
      "#+caption: A matrix: 3 × 2 of type dbl"
     ]
    }
   ],
   "source": [
    "# creamos un ts (time series) a partir de UK_zoo por conveniencia\n",
    "UK_ts = as.ts(UK_zoo)\n",
    "head(UK_ts,3)"
   ]
  },
  {
   "cell_type": "code",
   "execution_count": 1,
   "id": "b326528b-7e98-406a-996f-9d21b3cbedb4",
   "metadata": {
    "slideshow": {
     "slide_type": "notes"
    }
   },
   "outputs": [],
   "source": [
    "kk <- xyplot(Long + Short ~ Index, UK_df, type=\"l\")\n",
    "obj1 <- xyplot(Long ~ Index, UK_df, type = \"l\" , lwd=2, ylab=\"Long\",  xlab=\"Years\")\n",
    "obj2 <- xyplot(Short ~ Index, UK_df, type = \"l\", lwd=2, ylab=\"Short\")\n",
    "doubleYScale(obj1, obj2, add.ylab2 = TRUE)"
   ]
  },
  {
   "cell_type": "markdown",
   "id": "066e5aba-bbd8-462c-8c9d-3e4b178fc644",
   "metadata": {},
   "source": [
    "-   **`Long`:** rendimiento porcentual a 20 años  de los bonos soberanos del Reino Unido\n",
    "-   **`Short`:** rendimiento de las letras del tesoro a 91 días\n",
    "\n",
    "(Muestra: 1952Q2&#x2013;1979Q4)\n",
    "\n",
    "![img](./img/lecc03/UK_Interest_rates.png)\n",
    "\n",
    "**La correlación es $0.898$** (*ambas series poseen una tendencia\n",
    " creciente&#x2026; pero en este caso veremos es común*)\n",
    "\n"
   ]
  },
  {
   "cell_type": "code",
   "execution_count": 1,
   "id": "384bdb2b-67bf-4c1d-8603-730cd7c1ad8a",
   "metadata": {
    "slideshow": {
     "slide_type": "notes"
    }
   },
   "outputs": [
    {
     "name": "stdout",
     "output_type": "stream",
     "text": [
      "CorrelacionUKinterestRates\n",
      "\n",
      "0.89764827721203"
     ]
    }
   ],
   "source": [
    "cor(UK_df$Long, UK_df$Short)"
   ]
  },
  {
   "cell_type": "code",
   "execution_count": 1,
   "id": "1f015279-69c5-429d-a6db-38324e403742",
   "metadata": {
    "slideshow": {
     "slide_type": "notes"
    }
   },
   "outputs": [],
   "source": [
    "# creamos dos nuevas series temporales con las primeras diferencias\n",
    "d_Long  = diff(UK_ts[,\"Long\"])\n",
    "d_Short = diff(UK_ts[,\"Short\"])"
   ]
  },
  {
   "cell_type": "code",
   "execution_count": 1,
   "id": "1ec6afd7-4a41-4381-acdd-fcc61ac61d49",
   "metadata": {
    "slideshow": {
     "slide_type": "notes"
    }
   },
   "outputs": [
    {
     "name": "stdout",
     "output_type": "stream",
     "text": [
      "|   | date       | d_Long | d_Short |\n",
      "|---+------------+--------+---------|\n",
      "|   | <date>     | <dbl>  | <dbl>   |\n",
      "| 1 | 1952-07-01 | 0.13   | 0.15    |\n",
      "| 2 | 1952-10-01 | -0.17  | -0.05   |\n",
      "#+caption: A data.frame: 2 × 3"
     ]
    }
   ],
   "source": [
    "# creamos un nuevo data frame con las primeras diferencias\n",
    "UK_df.diferencias = data.frame(date = zoo::as.Date(time(d_Long)),\n",
    "                            d_Long  = as.matrix(d_Long),\n",
    "                            d_Short = as.matrix(d_Short))\n",
    "head(UK_df.diferencias, 2)"
   ]
  },
  {
   "cell_type": "code",
   "execution_count": 1,
   "id": "e79ff81f-ca2e-47a0-9da6-f6090ec3b41b",
   "metadata": {
    "slideshow": {
     "slide_type": "notes"
    }
   },
   "outputs": [],
   "source": [
    "# gráfico con las primeras diferencias de los tipos de interésframe DF.diferencias\n",
    "kk <- xyplot(d_Long + d_Short ~ date, UK_df.diferencias, type=\"l\")\n",
    "obj1 <- xyplot(d_Long ~ date, UK_df.diferencias, type = \"l\" , lwd=2, ylab=\"First diff. Long\",  xlab=\"Quarters\")\n",
    "obj2 <- xyplot(d_Short ~ date, UK_df.diferencias, type = \"l\", lwd=2, ylab=\"First diff. Short\")\n",
    "options(repr.plot.width = 12, repr.plot.height = 2, repr.plot.res = 200)\n",
    "doubleYScale(obj1, obj2, add.ylab2 = TRUE)\n",
    "options(repr.plot.width = 12, repr.plot.height = 4, repr.plot.res = 200)"
   ]
  },
  {
   "cell_type": "markdown",
   "id": "9dd6e0d5-72c9-4db8-8670-eb21e5fb6cff",
   "metadata": {
    "slideshow": {
     "slide_type": "notes"
    }
   },
   "source": [
    "![img](./img/lecc03/UK_Interest_ratesFirstDiff.png)\n",
    "\n"
   ]
  },
  {
   "cell_type": "markdown",
   "id": "92aea61e-b9dd-40a2-bf9b-c8102984e4a7",
   "metadata": {
    "slideshow": {
     "slide_type": "subslide"
    }
   },
   "source": [
    "La regresión de la primera diferencia de `Short` sobre la primera\n",
    "diferencia de `Long` **NO sugiere que la correlación sea espuria**:\n",
    "obtenemos un ajuste razonable con una pendiente es muy significativa y\n",
    "una constante NO significativa.\n",
    "\n"
   ]
  },
  {
   "cell_type": "code",
   "execution_count": 1,
   "id": "b1e624ab-2c1b-4c3e-8ce5-68760c24a942",
   "metadata": {},
   "outputs": [
    {
     "name": "stdout",
     "output_type": "stream",
     "text": [
      "#+begin_example\n",
      "\u001b[4mMODEL INFO:\u001b[24m\n",
      "\u001b[3mObservations:\u001b[23m 74\n",
      "\u001b[3mDependent Variable:\u001b[23m d_Short\n",
      "\u001b[3mType:\u001b[23m OLS linear regression \n",
      "\n",
      "\u001b[4mMODEL FIT:\u001b[24m\n",
      "\u001b[3mF\u001b[23m(1,72) = 20.11, \u001b[3mp\u001b[23m = 0.00\n",
      "\u001b[3mR² = \u001b[23m0.22\n",
      "\u001b[3mAdj. R² = \u001b[23m0.21 \n",
      "\n",
      "\u001b[3mStandard errors: OLS\u001b[23m\n",
      "------------------------------------------------\n",
      "                     Est.   S.E.   t val.      p\n",
      "----------------- ------- ------ -------- ------\n",
      "(Intercept)         -0.03   0.08    -0.35   0.72\n",
      "d_Long               1.26   0.28     4.48   0.00\n",
      "------------------------------------------------\n",
      "#+end_example"
     ]
    }
   ],
   "source": [
    "# resultados del ajuste MCO\n",
    "summ( lm(d_Short ~ d_Long) )"
   ]
  },
  {
   "cell_type": "markdown",
   "id": "291aad94-b191-4a6f-8977-488d502f5740",
   "metadata": {
    "slideshow": {
     "slide_type": "subslide"
    }
   },
   "source": [
    "Hagamos la regresión de los tipos a corto plazo sobre los tipos a largo plazo (en niveles)\n",
    "\n"
   ]
  },
  {
   "cell_type": "code",
   "execution_count": 1,
   "id": "e0de6061-6624-4851-8686-e0612aad3cef",
   "metadata": {},
   "outputs": [
    {
     "name": "stdout",
     "output_type": "stream",
     "text": [
      "#+begin_example\n",
      "\u001b[4mMODEL INFO:\u001b[24m\n",
      "\u001b[3mObservations:\u001b[23m 75\n",
      "\u001b[3mDependent Variable:\u001b[23m UK_df$Short\n",
      "\u001b[3mType:\u001b[23m OLS linear regression \n",
      "\n",
      "\u001b[4mMODEL FIT:\u001b[24m\n",
      "\u001b[3mF\u001b[23m(1,73) = 302.85, \u001b[3mp\u001b[23m = 0.00\n",
      "\u001b[3mR² = \u001b[23m0.81\n",
      "\u001b[3mAdj. R² = \u001b[23m0.80 \n",
      "\n",
      "\u001b[3mStandard errors: OLS\u001b[23m\n",
      "------------------------------------------------\n",
      "                     Est.   S.E.   t val.      p\n",
      "----------------- ------- ------ -------- ------\n",
      "(Intercept)         -1.17   0.35    -3.34   0.00\n",
      "UK_df$Long           1.00   0.06    17.40   0.00\n",
      "------------------------------------------------\n",
      "#+end_example"
     ]
    }
   ],
   "source": [
    "modelo <- lm(UK_df$Short ~ UK_df$Long) # ajuste MCO\n",
    "summ( modelo )                         # resultados del ajuste"
   ]
  },
  {
   "cell_type": "markdown",
   "id": "79eaedbd-14c4-4594-a4ea-73c5edbc6e42",
   "metadata": {
    "slideshow": {
     "slide_type": "subslide"
    }
   },
   "source": [
    "El ajuste es muy bueno, y los parámetros muy significativos. Veamos si\n",
    "los residuos parecen la realización de un proceso estacionario (en la\n",
    "jerga habitual&#x2026; \"*veamos si los residuos son estacionarios*\")\n",
    "\n"
   ]
  },
  {
   "cell_type": "code",
   "execution_count": 1,
   "id": "378b6fe0-8519-41bd-83ca-1afcd82227f9",
   "metadata": {
    "slideshow": {
     "slide_type": "notes"
    }
   },
   "outputs": [],
   "source": [
    "plot(as.ts(resid(modelo)))\n",
    "abline(0,0)"
   ]
  },
  {
   "cell_type": "markdown",
   "id": "866b28cf-4f52-42f5-bc47-725760762553",
   "metadata": {
    "slideshow": {
     "slide_type": "fragment"
    }
   },
   "source": [
    "![img](./img/lecc03/UK_Interest_ratesResiduals.png)\n",
    "\n",
    "Aparentan ser \"estacionarios en media\" (i.e., no se aprecia una\n",
    "tendencia evidente); por lo que **los tipos de interés a corto y largo\n",
    "plazo podrían estar cointegrados**.\n",
    "\n",
    "Más adelante veremos test estadísticos para contrastar si son\n",
    "estacionarios.\n",
    "\n"
   ]
  }
 ],
 "metadata": {
  "kernelspec": {
   "display_name": "R",
   "language": "R",
   "name": "ir"
  },
  "language_info": {
   "codemirror_mode": "r",
   "file_extension": ".r",
   "mimetype": "text/x-r-source",
   "name": "R",
   "pygments_lexer": "r",
   "version": "4.2.2"
  },
  "org": null
 },
 "nbformat": 4,
 "nbformat_minor": 5
}
